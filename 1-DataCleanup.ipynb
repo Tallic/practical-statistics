{
 "cells": [
  {
   "cell_type": "markdown",
   "metadata": {},
   "source": [
    "# Linear Regression"
   ]
  },
  {
   "cell_type": "markdown",
   "metadata": {},
   "source": [
    "The linear regression model is given by \n",
    "\n",
    "$$y_i = \\alpha + \\beta x_i + \\epsilon_i$$\n",
    "\n",
    "describing a straight line through the data with normally distributed noise."
   ]
  },
  {
   "cell_type": "code",
   "execution_count": null,
   "metadata": {
    "collapsed": false,
    "scrolled": true
   },
   "outputs": [],
   "source": [
    "library(ggplot2)\n",
    "library(ggfortify)\n",
    "library(tidyr)\n",
    "library(dplyr, warn.conflicts = F)"
   ]
  },
  {
   "cell_type": "markdown",
   "metadata": {},
   "source": [
    "## Import Data"
   ]
  },
  {
   "cell_type": "code",
   "execution_count": null,
   "metadata": {
    "collapsed": false
   },
   "outputs": [],
   "source": [
    "df <- read.csv('datasets/student-mat.csv', sep = ';') %>%\n",
    "    tbl_df\n",
    "df"
   ]
  },
  {
   "cell_type": "markdown",
   "metadata": {},
   "source": [
    "## Rename Columns"
   ]
  },
  {
   "cell_type": "code",
   "execution_count": null,
   "metadata": {
    "collapsed": false
   },
   "outputs": [],
   "source": [
    "df <- df %>%\n",
    "    rename(Sex = sex,\n",
    "           Age = age,\n",
    "           School = school,\n",
    "           HomeType = address,\n",
    "           ParentStatus = Pstatus,\n",
    "           EducationMother = Medu,\n",
    "           JobMother = Mjob,\n",
    "           EducationFather = Fedu,\n",
    "           JobFather = Fjob,\n",
    "           Guardian = guardian,\n",
    "           FamilySize = famsize,\n",
    "           FamilyRelationship = famrel,\n",
    "           SchoolChoiceReason = reason,\n",
    "           TravelTime = traveltime,\n",
    "           StudyTime = studytime,\n",
    "           ClassFailed = failures,\n",
    "           EducationalSchoolSupport = schoolsup,\n",
    "           EducationalFamilySupport = famsup,\n",
    "           ExtraCurricularActivities = activities,\n",
    "           ExtraPaidClass = paid,\n",
    "           InternetAccess = internet,\n",
    "           AttendedNurserySchool = nursery,\n",
    "           TargetsHigherEducation = higher,\n",
    "           RelationshipStatus = romantic,\n",
    "           LeisureTime = freetime,\n",
    "           SocialInteractionIntensity = goout,\n",
    "           AlcoholConsumptionWeekend = Walc,\n",
    "           AlcoholConsumptionWorkday = Dalc,\n",
    "           HealthStatus = health,\n",
    "           SchoolAbsences = absences,\n",
    "           FirstPeriodGrade = G1,\n",
    "           SecondPeriodGrade = G2,\n",
    "           FinalGrade = G3) \n",
    "\n",
    "df"
   ]
  },
  {
   "cell_type": "markdown",
   "metadata": {},
   "source": [
    "## Recode Values"
   ]
  },
  {
   "cell_type": "code",
   "execution_count": null,
   "metadata": {
    "collapsed": false
   },
   "outputs": [],
   "source": [
    "RecodeEducation <- function(x) recode(x, `0` = 'None', `1` = 'Primary', `2` = 'PrimaryExtended', `3` = 'SecondaryExtended', `4` = 'Higher') \n",
    "RecodeJob <- function(x) recode(x, teacher = 'Education', services = 'Services', at_home = 'Home', other = 'Other', health = 'Health')\n",
    "RecodeBinary <- function(x) recode(x, yes = 'Yes', no = 'No')\n",
    "RecodeLikert <- function(x) recode(x, `1` = 'VeryLow', `2` = 'Low', `3` = 'Medium', `4` = 'High', `5` = 'VeryHigh')\n",
    "    \n",
    "df <- df %>%\n",
    "    mutate(Sex = recode(Sex, F = 'Female', M = 'Male'),\n",
    "           School = recode(School, GP = 'GabrielPereira', MS = 'MousinhoDaSilveira'),\n",
    "           HomeType = recode(HomeType, U = 'Urban', R = 'Rural'),\n",
    "           ParentStatus = recode(ParentStatus, T = 'Together', A = 'Apart'),\n",
    "           EducationMother = RecodeEducation(EducationMother),\n",
    "           JobMother = RecodeJob(JobMother),\n",
    "           EducationFather = RecodeEducation(EducationFather),\n",
    "           JobFather = RecodeJob(JobFather),\n",
    "           Guardian = recode(Guardian, mother = 'Mother', father = 'Father', other = 'Other'),\n",
    "           FamilySize = recode(FamilySize, GT3 = 'Large', LE3 = 'Small'),\n",
    "           FamilyRelationship = recode(FamilyRelationship, `1` = 'VeryBad', `2` = 'Bad', `3` = 'Ok', `4` = 'Good', `5` = 'VeryGood'),\n",
    "           SchoolChoiceReason = recode(SchoolChoiceReason, course = 'CoursePreference', other = 'Other', home = 'HomeProximity', reputation = 'Reputation'),\n",
    "           TravelTime = recode(TravelTime, `1` = 'x < 15', `2` = '15 <= x < 30', `3` = '30 <= x < 60', `4` = 'x >= 60'),\n",
    "           StudyTime = recode(StudyTime, `1` = 'x < 120', `2` = '120 <= x < 300', `3` = '300 <= x < 600', `4` = 'x >= 600')) %>%\n",
    "    mutate_at(vars(EducationMother, EducationFather), .funs = RecodeEducation) %>%\n",
    "    mutate_at(vars(JobMother, JobFather), .funs = RecodeJob) %>%\n",
    "    mutate_at(vars(EducationalFamilySupport, \n",
    "                   EducationalSchoolSupport, \n",
    "                   ExtraCurricularActivities, \n",
    "                   ExtraPaidClass, \n",
    "                   InternetAccess, \n",
    "                   AttendedNurserySchool, \n",
    "                   TargetsHigherEducation, \n",
    "                   RelationshipStatus),\n",
    "              .funs = RecodeBinary) %>%\n",
    "    mutate_at(vars(LeisureTime,\n",
    "                   SocialInteractionIntensity,\n",
    "                   AlcoholConsumptionWeekend,\n",
    "                   AlcoholConsumptionWorkday,\n",
    "                   HealthStatus),\n",
    "              .funs = RecodeLikert)\n",
    "    \n",
    "df"
   ]
  },
  {
   "cell_type": "code",
   "execution_count": null,
   "metadata": {
    "collapsed": false
   },
   "outputs": [],
   "source": [
    "summary(df)"
   ]
  },
  {
   "cell_type": "code",
   "execution_count": null,
   "metadata": {
    "collapsed": false
   },
   "outputs": [],
   "source": [
    "vf <- df %>% \n",
    "    gather(key = GradeName, value = Grade, FirstPeriodGrade, SecondPeriodGrade, FinalGrade)\n"
   ]
  },
  {
   "cell_type": "code",
   "execution_count": null,
   "metadata": {
    "collapsed": false
   },
   "outputs": [],
   "source": [
    "vf %>%\n",
    "    ggplot(aes(x = Grade, fill = GradeName)) +\n",
    "    geom_histogram(bins = 10, \n",
    "                   color = 'black', \n",
    "                   alpha = .5, \n",
    "                   position = 'stack')\n"
   ]
  },
  {
   "cell_type": "code",
   "execution_count": null,
   "metadata": {
    "collapsed": false
   },
   "outputs": [],
   "source": [
    "vf %>%\n",
    "    ggplot(aes(x = Grade, fill = GradeName)) +\n",
    "    geom_bar(color = 'black', \n",
    "             alpha = .5, \n",
    "             position = 'dodge',\n",
    "             width = .8)"
   ]
  },
  {
   "cell_type": "code",
   "execution_count": null,
   "metadata": {
    "collapsed": false
   },
   "outputs": [],
   "source": [
    "# Does not work as 'green' is interpreted as variable that should be mapped\n",
    "vf %>%\n",
    "    ggplot(aes(x = Grade, fill = 'green')) +\n",
    "    geom_histogram(bins = 10, \n",
    "                   color = 'black', \n",
    "                   alpha = .5, \n",
    "                   position = 'stack')\n",
    "\n",
    "# use the asthetics in the geom\n",
    "vf %>%\n",
    "    ggplot(aes(x = Grade)) +\n",
    "    geom_histogram(bins = 10, \n",
    "                   color = 'black', \n",
    "                   alpha = .5, \n",
    "                   position = 'stack',\n",
    "                   fill = 'green')\n"
   ]
  },
  {
   "cell_type": "code",
   "execution_count": null,
   "metadata": {
    "collapsed": false
   },
   "outputs": [],
   "source": [
    "# Prepare data before plotting\n",
    "# Y scale of data does not fit to the scale of Y\n",
    "vf %>%\n",
    "    ggplot(aes(x = Grade)) +\n",
    "    geom_histogram(fill = 'green',\n",
    "                   bins = 10, \n",
    "                   color = 'black', \n",
    "                   alpha = .5, \n",
    "                   position = 'stack') +\n",
    "    stat_function(fun = dnorm, args = list(mean = mean(vf$Grade), sd = sd(vf$Grade)))\n",
    "\n",
    "# ggplot has some computed variables that can be accessed via ..variables..\n",
    "# These can be mapped just like dataframe variables\n",
    "# Look up the documentation for the exact values\n",
    "vf %>%\n",
    "    ggplot() +\n",
    "    geom_histogram(aes(x = Grade, y = ..density..),\n",
    "                   fill = 'green',\n",
    "                   bins = 10, \n",
    "                   color = 'black', \n",
    "                   alpha = .5, \n",
    "                   position = 'stack') +\n",
    "    stat_function(fun = dnorm, \n",
    "                  color = 'red',\n",
    "                  args = list(mean = mean(vf$Grade), \n",
    "                              sd = sd(vf$Grade)))\n"
   ]
  },
  {
   "cell_type": "code",
   "execution_count": null,
   "metadata": {
    "collapsed": false
   },
   "outputs": [],
   "source": [
    "vf %>%\n",
    "    ggplot(aes(x = SchoolAbsences, y = Grade, color = GradeName)) +\n",
    "    geom_point(shape = 18)\n"
   ]
  }
 ],
 "metadata": {
  "kernelspec": {
   "display_name": "R",
   "language": "R",
   "name": "ir"
  },
  "language_info": {
   "codemirror_mode": "r",
   "file_extension": ".r",
   "mimetype": "text/x-r-source",
   "name": "R",
   "pygments_lexer": "r",
   "version": "3.3.2"
  }
 },
 "nbformat": 4,
 "nbformat_minor": 2
}
