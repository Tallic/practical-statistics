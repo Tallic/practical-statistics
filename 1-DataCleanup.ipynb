{
 "cells": [
  {
   "cell_type": "markdown",
   "metadata": {
    "slideshow": {
     "slide_type": "slide"
    }
   },
   "source": [
    "# Data Cleaning and Wrangling\n",
    "*Loading, cleaning, tidying and reshaping data with R.*"
   ]
  },
  {
   "cell_type": "markdown",
   "metadata": {
    "slideshow": {
     "slide_type": "slide"
    }
   },
   "source": [
    "*Note: The tutorial series works alot with tidyr, dplyr, ggplot and similar packages.\n",
    "All of these libraries provide a concise and clear way to execute data reshaping and visualization in R beyond the vanilla approach.*\n",
    "\n",
    "If you need information about a function or package simply type ?*function_name*\n",
    "\n",
    "**tidyr:** helps tidying data frames\n",
    "\n",
    "**dplyr:** is a grammer for data manipulation\n",
    "\n",
    "**ggplot2:** is a grammar for graphics to declaratively declare plots"
   ]
  },
  {
   "cell_type": "markdown",
   "metadata": {
    "slideshow": {
     "slide_type": "subslide"
    }
   },
   "source": [
    "In R are you declare the usage of a package via the *library*-function."
   ]
  },
  {
   "cell_type": "code",
   "execution_count": 148,
   "metadata": {
    "collapsed": false,
    "scrolled": true,
    "slideshow": {
     "slide_type": "fragment"
    }
   },
   "outputs": [],
   "source": [
    "library(assertthat)\n",
    "library(tidyr)\n",
    "library(dplyr, warn.conflicts = F)\n",
    "library(ggplot2)"
   ]
  },
  {
   "cell_type": "markdown",
   "metadata": {
    "slideshow": {
     "slide_type": "subslide"
    }
   },
   "source": [
    "Before using a package it is always usful to look at the vignette or the documentation.\n",
    "In general, if you want to know something about a function or package use a question mark."
   ]
  },
  {
   "cell_type": "code",
   "execution_count": 149,
   "metadata": {
    "collapsed": false,
    "slideshow": {
     "slide_type": "fragment"
    }
   },
   "outputs": [],
   "source": [
    "?dplyr"
   ]
  },
  {
   "cell_type": "markdown",
   "metadata": {
    "slideshow": {
     "slide_type": "fragment"
    }
   },
   "source": [
    "Or double question mark to search for a specific term within the documentation system."
   ]
  },
  {
   "cell_type": "code",
   "execution_count": 150,
   "metadata": {
    "collapsed": false,
    "slideshow": {
     "slide_type": "fragment"
    }
   },
   "outputs": [
    {
     "data": {},
     "metadata": {},
     "output_type": "display_data"
    }
   ],
   "source": [
    "??dplyr"
   ]
  },
  {
   "cell_type": "markdown",
   "metadata": {
    "slideshow": {
     "slide_type": "slide"
    }
   },
   "source": [
    "## Import Data\n",
    "R allows you to import data from csv, json but also from many other file formats like hdf5 or databases.\n",
    "Start with loading you data into a minimal set of logical related data frames and transform them into dplyr tables."
   ]
  },
  {
   "cell_type": "code",
   "execution_count": 151,
   "metadata": {
    "collapsed": false,
    "slideshow": {
     "slide_type": "subslide"
    }
   },
   "outputs": [
    {
     "data": {
      "text/html": [
       "<table>\n",
       "<thead><tr><th scope=col>school</th><th scope=col>sex</th><th scope=col>age</th><th scope=col>address</th><th scope=col>famsize</th><th scope=col>Pstatus</th><th scope=col>Medu</th><th scope=col>Fedu</th><th scope=col>Mjob</th><th scope=col>Fjob</th><th scope=col>⋯</th><th scope=col>famrel</th><th scope=col>freetime</th><th scope=col>goout</th><th scope=col>Dalc</th><th scope=col>Walc</th><th scope=col>health</th><th scope=col>absences</th><th scope=col>G1</th><th scope=col>G2</th><th scope=col>G3</th></tr></thead>\n",
       "<tbody>\n",
       "\t<tr><td>GP      </td><td>F       </td><td>18      </td><td>U       </td><td>GT3     </td><td>A       </td><td>4       </td><td>4       </td><td>at_home </td><td>teacher </td><td>⋯       </td><td>4       </td><td>3       </td><td>4       </td><td>1       </td><td>1       </td><td>3       </td><td> 6      </td><td> 5      </td><td> 6      </td><td> 6      </td></tr>\n",
       "\t<tr><td>GP      </td><td>F       </td><td>17      </td><td>U       </td><td>GT3     </td><td>T       </td><td>1       </td><td>1       </td><td>at_home </td><td>other   </td><td>⋯       </td><td>5       </td><td>3       </td><td>3       </td><td>1       </td><td>1       </td><td>3       </td><td> 4      </td><td> 5      </td><td> 5      </td><td> 6      </td></tr>\n",
       "\t<tr><td>GP      </td><td>F       </td><td>15      </td><td>U       </td><td>LE3     </td><td>T       </td><td>1       </td><td>1       </td><td>at_home </td><td>other   </td><td>⋯       </td><td>4       </td><td>3       </td><td>2       </td><td>2       </td><td>3       </td><td>3       </td><td>10      </td><td> 7      </td><td> 8      </td><td>10      </td></tr>\n",
       "\t<tr><td>GP      </td><td>F       </td><td>15      </td><td>U       </td><td>GT3     </td><td>T       </td><td>4       </td><td>2       </td><td>health  </td><td>services</td><td>⋯       </td><td>3       </td><td>2       </td><td>2       </td><td>1       </td><td>1       </td><td>5       </td><td> 2      </td><td>15      </td><td>14      </td><td>15      </td></tr>\n",
       "\t<tr><td>GP      </td><td>F       </td><td>16      </td><td>U       </td><td>GT3     </td><td>T       </td><td>3       </td><td>3       </td><td>other   </td><td>other   </td><td>⋯       </td><td>4       </td><td>3       </td><td>2       </td><td>1       </td><td>2       </td><td>5       </td><td> 4      </td><td> 6      </td><td>10      </td><td>10      </td></tr>\n",
       "\t<tr><td>GP      </td><td>M       </td><td>16      </td><td>U       </td><td>LE3     </td><td>T       </td><td>4       </td><td>3       </td><td>services</td><td>other   </td><td>⋯       </td><td>5       </td><td>4       </td><td>2       </td><td>1       </td><td>2       </td><td>5       </td><td>10      </td><td>15      </td><td>15      </td><td>15      </td></tr>\n",
       "</tbody>\n",
       "</table>\n"
      ],
      "text/latex": [
       "\\begin{tabular}{r|lllllllllllllllllllllllllllllllll}\n",
       " school & sex & age & address & famsize & Pstatus & Medu & Fedu & Mjob & Fjob & ⋯ & famrel & freetime & goout & Dalc & Walc & health & absences & G1 & G2 & G3\\\\\n",
       "\\hline\n",
       "\t GP         & F          & 18         & U          & GT3        & A          & 4          & 4          & at\\_home  & teacher    & ⋯          & 4          & 3          & 4          & 1          & 1          & 3          &  6         &  5         &  6         &  6        \\\\\n",
       "\t GP         & F          & 17         & U          & GT3        & T          & 1          & 1          & at\\_home  & other      & ⋯          & 5          & 3          & 3          & 1          & 1          & 3          &  4         &  5         &  5         &  6        \\\\\n",
       "\t GP         & F          & 15         & U          & LE3        & T          & 1          & 1          & at\\_home  & other      & ⋯          & 4          & 3          & 2          & 2          & 3          & 3          & 10         &  7         &  8         & 10        \\\\\n",
       "\t GP       & F        & 15       & U        & GT3      & T        & 4        & 2        & health   & services & ⋯        & 3        & 2        & 2        & 1        & 1        & 5        &  2       & 15       & 14       & 15      \\\\\n",
       "\t GP       & F        & 16       & U        & GT3      & T        & 3        & 3        & other    & other    & ⋯        & 4        & 3        & 2        & 1        & 2        & 5        &  4       &  6       & 10       & 10      \\\\\n",
       "\t GP       & M        & 16       & U        & LE3      & T        & 4        & 3        & services & other    & ⋯        & 5        & 4        & 2        & 1        & 2        & 5        & 10       & 15       & 15       & 15      \\\\\n",
       "\\end{tabular}\n"
      ],
      "text/markdown": [
       "\n",
       "school | sex | age | address | famsize | Pstatus | Medu | Fedu | Mjob | Fjob | ⋯ | famrel | freetime | goout | Dalc | Walc | health | absences | G1 | G2 | G3 | \n",
       "|---|---|---|---|---|---|\n",
       "| GP       | F        | 18       | U        | GT3      | A        | 4        | 4        | at_home  | teacher  | ⋯        | 4        | 3        | 4        | 1        | 1        | 3        |  6       |  5       |  6       |  6       | \n",
       "| GP       | F        | 17       | U        | GT3      | T        | 1        | 1        | at_home  | other    | ⋯        | 5        | 3        | 3        | 1        | 1        | 3        |  4       |  5       |  5       |  6       | \n",
       "| GP       | F        | 15       | U        | LE3      | T        | 1        | 1        | at_home  | other    | ⋯        | 4        | 3        | 2        | 2        | 3        | 3        | 10       |  7       |  8       | 10       | \n",
       "| GP       | F        | 15       | U        | GT3      | T        | 4        | 2        | health   | services | ⋯        | 3        | 2        | 2        | 1        | 1        | 5        |  2       | 15       | 14       | 15       | \n",
       "| GP       | F        | 16       | U        | GT3      | T        | 3        | 3        | other    | other    | ⋯        | 4        | 3        | 2        | 1        | 2        | 5        |  4       |  6       | 10       | 10       | \n",
       "| GP       | M        | 16       | U        | LE3      | T        | 4        | 3        | services | other    | ⋯        | 5        | 4        | 2        | 1        | 2        | 5        | 10       | 15       | 15       | 15       | \n",
       "\n",
       "\n"
      ],
      "text/plain": [
       "  school sex age address famsize Pstatus Medu Fedu Mjob     Fjob     ⋯ famrel\n",
       "1 GP     F   18  U       GT3     A       4    4    at_home  teacher  ⋯ 4     \n",
       "2 GP     F   17  U       GT3     T       1    1    at_home  other    ⋯ 5     \n",
       "3 GP     F   15  U       LE3     T       1    1    at_home  other    ⋯ 4     \n",
       "4 GP     F   15  U       GT3     T       4    2    health   services ⋯ 3     \n",
       "5 GP     F   16  U       GT3     T       3    3    other    other    ⋯ 4     \n",
       "6 GP     M   16  U       LE3     T       4    3    services other    ⋯ 5     \n",
       "  freetime goout Dalc Walc health absences G1 G2 G3\n",
       "1 3        4     1    1    3       6        5  6  6\n",
       "2 3        3     1    1    3       4        5  5  6\n",
       "3 3        2     2    3    3      10        7  8 10\n",
       "4 2        2     1    1    5       2       15 14 15\n",
       "5 3        2     1    2    5       4        6 10 10\n",
       "6 4        2     1    2    5      10       15 15 15"
      ]
     },
     "metadata": {},
     "output_type": "display_data"
    }
   ],
   "source": [
    "df <- read.csv('datasets/student-mat.csv', sep = ';') %>%\n",
    "    tbl_df\n",
    "df %>% head"
   ]
  },
  {
   "cell_type": "markdown",
   "metadata": {
    "slideshow": {
     "slide_type": "subslide"
    }
   },
   "source": [
    "### Conclusion on Importing\n",
    "* R can access various data sources - use the internet for specific data source adapters.\n",
    "* Load the data in a minimal set of data frames.\n",
    "* Sometimes R automatically converts strings to factors - *be aware*.\n",
    "* Encapsulate your loading logic in its own script to avoid change propagation."
   ]
  },
  {
   "cell_type": "markdown",
   "metadata": {
    "slideshow": {
     "slide_type": "slide"
    }
   },
   "source": [
    "## Tidy Data\n",
    "\n",
    "[Tidy data](ftp://cran.r-project.org/pub/R/web/packages/tidyr/vignettes/tidy-data.html) describes a set of principles to organize data such that the follow up analysis is simplified.\n",
    "It is focused around data frames in which *columns* describe the variable and\n",
    "*rows* the *observations*.\n",
    "A variable (a column) could be the name of a person and every entry within the column describes a specific name e.g., John Doe.\n",
    "\n",
    "This is similar to databases where tidy data would be a table in Codd's 3rd normal form but reframed in a statistical fashion:\n",
    "1. Each variable forms a column,\n",
    "2. each observation forms a row,\n",
    "3. each type of observational unit forms a table.\n"
   ]
  },
  {
   "cell_type": "markdown",
   "metadata": {
    "collapsed": true,
    "slideshow": {
     "slide_type": "subslide"
    }
   },
   "source": [
    "The five most common problems with data and their respective data sets are:\n",
    "1. Column headers are values, not variable names.\n",
    "2. Multiple variables are stored in one column.\n",
    "3. Variables are stored in both rows and columns.\n",
    "4. Multiple types of observational units are stored in the same table.\n",
    "5. A single observation unit is stored in multiple tables.\n",
    "\n",
    "Hadley provides an example for all these issues on the link above, so browse through."
   ]
  },
  {
   "cell_type": "markdown",
   "metadata": {
    "slideshow": {
     "slide_type": "subslide"
    }
   },
   "source": [
    "### Conventions\n",
    "\n",
    "In addition to these common tidy principles it is highly recommended to use common software development best practices for naming variables but also for their respective values.\n",
    "\n",
    "* [Google R](https://google.github.io/styleguide/Rguide.xml)\n",
    "* [Hadley Wickham](http://adv-r.had.co.nz/Style.html)\n"
   ]
  },
  {
   "cell_type": "markdown",
   "metadata": {
    "slideshow": {
     "slide_type": "slide"
    }
   },
   "source": [
    "### Data Cleaning\n",
    "After loading it is adviseable to clean the data, i.e., define proper column names and recode the values into some sensible.\n",
    "Take for example the students data we loaded before:"
   ]
  },
  {
   "cell_type": "code",
   "execution_count": 152,
   "metadata": {
    "collapsed": false,
    "slideshow": {
     "slide_type": "fragment"
    }
   },
   "outputs": [
    {
     "data": {
      "text/html": [
       "<table>\n",
       "<thead><tr><th scope=col>school</th><th scope=col>sex</th><th scope=col>age</th><th scope=col>address</th><th scope=col>famsize</th><th scope=col>Pstatus</th><th scope=col>Medu</th><th scope=col>Fedu</th><th scope=col>Mjob</th><th scope=col>Fjob</th><th scope=col>⋯</th><th scope=col>famrel</th><th scope=col>freetime</th><th scope=col>goout</th><th scope=col>Dalc</th><th scope=col>Walc</th><th scope=col>health</th><th scope=col>absences</th><th scope=col>G1</th><th scope=col>G2</th><th scope=col>G3</th></tr></thead>\n",
       "<tbody>\n",
       "\t<tr><td>GP      </td><td>F       </td><td>18      </td><td>U       </td><td>GT3     </td><td>A       </td><td>4       </td><td>4       </td><td>at_home </td><td>teacher </td><td>⋯       </td><td>4       </td><td>3       </td><td>4       </td><td>1       </td><td>1       </td><td>3       </td><td> 6      </td><td> 5      </td><td> 6      </td><td> 6      </td></tr>\n",
       "\t<tr><td>GP      </td><td>F       </td><td>17      </td><td>U       </td><td>GT3     </td><td>T       </td><td>1       </td><td>1       </td><td>at_home </td><td>other   </td><td>⋯       </td><td>5       </td><td>3       </td><td>3       </td><td>1       </td><td>1       </td><td>3       </td><td> 4      </td><td> 5      </td><td> 5      </td><td> 6      </td></tr>\n",
       "\t<tr><td>GP      </td><td>F       </td><td>15      </td><td>U       </td><td>LE3     </td><td>T       </td><td>1       </td><td>1       </td><td>at_home </td><td>other   </td><td>⋯       </td><td>4       </td><td>3       </td><td>2       </td><td>2       </td><td>3       </td><td>3       </td><td>10      </td><td> 7      </td><td> 8      </td><td>10      </td></tr>\n",
       "\t<tr><td>GP      </td><td>F       </td><td>15      </td><td>U       </td><td>GT3     </td><td>T       </td><td>4       </td><td>2       </td><td>health  </td><td>services</td><td>⋯       </td><td>3       </td><td>2       </td><td>2       </td><td>1       </td><td>1       </td><td>5       </td><td> 2      </td><td>15      </td><td>14      </td><td>15      </td></tr>\n",
       "\t<tr><td>GP      </td><td>F       </td><td>16      </td><td>U       </td><td>GT3     </td><td>T       </td><td>3       </td><td>3       </td><td>other   </td><td>other   </td><td>⋯       </td><td>4       </td><td>3       </td><td>2       </td><td>1       </td><td>2       </td><td>5       </td><td> 4      </td><td> 6      </td><td>10      </td><td>10      </td></tr>\n",
       "\t<tr><td>GP      </td><td>M       </td><td>16      </td><td>U       </td><td>LE3     </td><td>T       </td><td>4       </td><td>3       </td><td>services</td><td>other   </td><td>⋯       </td><td>5       </td><td>4       </td><td>2       </td><td>1       </td><td>2       </td><td>5       </td><td>10      </td><td>15      </td><td>15      </td><td>15      </td></tr>\n",
       "</tbody>\n",
       "</table>\n"
      ],
      "text/latex": [
       "\\begin{tabular}{r|lllllllllllllllllllllllllllllllll}\n",
       " school & sex & age & address & famsize & Pstatus & Medu & Fedu & Mjob & Fjob & ⋯ & famrel & freetime & goout & Dalc & Walc & health & absences & G1 & G2 & G3\\\\\n",
       "\\hline\n",
       "\t GP         & F          & 18         & U          & GT3        & A          & 4          & 4          & at\\_home  & teacher    & ⋯          & 4          & 3          & 4          & 1          & 1          & 3          &  6         &  5         &  6         &  6        \\\\\n",
       "\t GP         & F          & 17         & U          & GT3        & T          & 1          & 1          & at\\_home  & other      & ⋯          & 5          & 3          & 3          & 1          & 1          & 3          &  4         &  5         &  5         &  6        \\\\\n",
       "\t GP         & F          & 15         & U          & LE3        & T          & 1          & 1          & at\\_home  & other      & ⋯          & 4          & 3          & 2          & 2          & 3          & 3          & 10         &  7         &  8         & 10        \\\\\n",
       "\t GP       & F        & 15       & U        & GT3      & T        & 4        & 2        & health   & services & ⋯        & 3        & 2        & 2        & 1        & 1        & 5        &  2       & 15       & 14       & 15      \\\\\n",
       "\t GP       & F        & 16       & U        & GT3      & T        & 3        & 3        & other    & other    & ⋯        & 4        & 3        & 2        & 1        & 2        & 5        &  4       &  6       & 10       & 10      \\\\\n",
       "\t GP       & M        & 16       & U        & LE3      & T        & 4        & 3        & services & other    & ⋯        & 5        & 4        & 2        & 1        & 2        & 5        & 10       & 15       & 15       & 15      \\\\\n",
       "\\end{tabular}\n"
      ],
      "text/markdown": [
       "\n",
       "school | sex | age | address | famsize | Pstatus | Medu | Fedu | Mjob | Fjob | ⋯ | famrel | freetime | goout | Dalc | Walc | health | absences | G1 | G2 | G3 | \n",
       "|---|---|---|---|---|---|\n",
       "| GP       | F        | 18       | U        | GT3      | A        | 4        | 4        | at_home  | teacher  | ⋯        | 4        | 3        | 4        | 1        | 1        | 3        |  6       |  5       |  6       |  6       | \n",
       "| GP       | F        | 17       | U        | GT3      | T        | 1        | 1        | at_home  | other    | ⋯        | 5        | 3        | 3        | 1        | 1        | 3        |  4       |  5       |  5       |  6       | \n",
       "| GP       | F        | 15       | U        | LE3      | T        | 1        | 1        | at_home  | other    | ⋯        | 4        | 3        | 2        | 2        | 3        | 3        | 10       |  7       |  8       | 10       | \n",
       "| GP       | F        | 15       | U        | GT3      | T        | 4        | 2        | health   | services | ⋯        | 3        | 2        | 2        | 1        | 1        | 5        |  2       | 15       | 14       | 15       | \n",
       "| GP       | F        | 16       | U        | GT3      | T        | 3        | 3        | other    | other    | ⋯        | 4        | 3        | 2        | 1        | 2        | 5        |  4       |  6       | 10       | 10       | \n",
       "| GP       | M        | 16       | U        | LE3      | T        | 4        | 3        | services | other    | ⋯        | 5        | 4        | 2        | 1        | 2        | 5        | 10       | 15       | 15       | 15       | \n",
       "\n",
       "\n"
      ],
      "text/plain": [
       "  school sex age address famsize Pstatus Medu Fedu Mjob     Fjob     ⋯ famrel\n",
       "1 GP     F   18  U       GT3     A       4    4    at_home  teacher  ⋯ 4     \n",
       "2 GP     F   17  U       GT3     T       1    1    at_home  other    ⋯ 5     \n",
       "3 GP     F   15  U       LE3     T       1    1    at_home  other    ⋯ 4     \n",
       "4 GP     F   15  U       GT3     T       4    2    health   services ⋯ 3     \n",
       "5 GP     F   16  U       GT3     T       3    3    other    other    ⋯ 4     \n",
       "6 GP     M   16  U       LE3     T       4    3    services other    ⋯ 5     \n",
       "  freetime goout Dalc Walc health absences G1 G2 G3\n",
       "1 3        4     1    1    3       6        5  6  6\n",
       "2 3        3     1    1    3       4        5  5  6\n",
       "3 3        2     2    3    3      10        7  8 10\n",
       "4 2        2     1    1    5       2       15 14 15\n",
       "5 3        2     1    2    5       4        6 10 10\n",
       "6 4        2     1    2    5      10       15 15 15"
      ]
     },
     "metadata": {},
     "output_type": "display_data"
    }
   ],
   "source": [
    "df %>% head"
   ]
  },
  {
   "cell_type": "markdown",
   "metadata": {
    "slideshow": {
     "slide_type": "fragment"
    }
   },
   "source": [
    "Immediate questions arise for example:\n",
    "* What does Medu and Fedu mean?\n",
    "* What are the G1-3 columns?\n",
    "* etc.\n"
   ]
  },
  {
   "cell_type": "markdown",
   "metadata": {
    "slideshow": {
     "slide_type": "subslide"
    }
   },
   "source": [
    "#### Rename Variable\n",
    "So lets first give the columns long descriptive names, we can do this via the dplyr *rename*-function.\n"
   ]
  },
  {
   "cell_type": "code",
   "execution_count": 153,
   "metadata": {
    "collapsed": false,
    "slideshow": {
     "slide_type": "fragment"
    }
   },
   "outputs": [
    {
     "data": {
      "text/html": [
       "<table>\n",
       "<thead><tr><th scope=col>School</th><th scope=col>Sex</th><th scope=col>Age</th><th scope=col>HomeArea</th><th scope=col>FamilySize</th><th scope=col>ParentStatus</th><th scope=col>EducationMother</th><th scope=col>EducationFather</th><th scope=col>JobMother</th><th scope=col>JobFather</th><th scope=col>⋯</th><th scope=col>FamilyRelationship</th><th scope=col>LeisureTime</th><th scope=col>SocialInteractionIntensity</th><th scope=col>AlcoholConsumptionWorkday</th><th scope=col>AlcoholConsumptionWeekend</th><th scope=col>HealthStatus</th><th scope=col>SchoolAbsences</th><th scope=col>FirstPeriodGrade</th><th scope=col>SecondPeriodGrade</th><th scope=col>FinalGrade</th></tr></thead>\n",
       "<tbody>\n",
       "\t<tr><td>GP      </td><td>F       </td><td>18      </td><td>U       </td><td>GT3     </td><td>A       </td><td>4       </td><td>4       </td><td>at_home </td><td>teacher </td><td>⋯       </td><td>4       </td><td>3       </td><td>4       </td><td>1       </td><td>1       </td><td>3       </td><td> 6      </td><td> 5      </td><td> 6      </td><td> 6      </td></tr>\n",
       "\t<tr><td>GP      </td><td>F       </td><td>17      </td><td>U       </td><td>GT3     </td><td>T       </td><td>1       </td><td>1       </td><td>at_home </td><td>other   </td><td>⋯       </td><td>5       </td><td>3       </td><td>3       </td><td>1       </td><td>1       </td><td>3       </td><td> 4      </td><td> 5      </td><td> 5      </td><td> 6      </td></tr>\n",
       "\t<tr><td>GP      </td><td>F       </td><td>15      </td><td>U       </td><td>LE3     </td><td>T       </td><td>1       </td><td>1       </td><td>at_home </td><td>other   </td><td>⋯       </td><td>4       </td><td>3       </td><td>2       </td><td>2       </td><td>3       </td><td>3       </td><td>10      </td><td> 7      </td><td> 8      </td><td>10      </td></tr>\n",
       "\t<tr><td>GP      </td><td>F       </td><td>15      </td><td>U       </td><td>GT3     </td><td>T       </td><td>4       </td><td>2       </td><td>health  </td><td>services</td><td>⋯       </td><td>3       </td><td>2       </td><td>2       </td><td>1       </td><td>1       </td><td>5       </td><td> 2      </td><td>15      </td><td>14      </td><td>15      </td></tr>\n",
       "\t<tr><td>GP      </td><td>F       </td><td>16      </td><td>U       </td><td>GT3     </td><td>T       </td><td>3       </td><td>3       </td><td>other   </td><td>other   </td><td>⋯       </td><td>4       </td><td>3       </td><td>2       </td><td>1       </td><td>2       </td><td>5       </td><td> 4      </td><td> 6      </td><td>10      </td><td>10      </td></tr>\n",
       "\t<tr><td>GP      </td><td>M       </td><td>16      </td><td>U       </td><td>LE3     </td><td>T       </td><td>4       </td><td>3       </td><td>services</td><td>other   </td><td>⋯       </td><td>5       </td><td>4       </td><td>2       </td><td>1       </td><td>2       </td><td>5       </td><td>10      </td><td>15      </td><td>15      </td><td>15      </td></tr>\n",
       "</tbody>\n",
       "</table>\n"
      ],
      "text/latex": [
       "\\begin{tabular}{r|lllllllllllllllllllllllllllllllll}\n",
       " School & Sex & Age & HomeArea & FamilySize & ParentStatus & EducationMother & EducationFather & JobMother & JobFather & ⋯ & FamilyRelationship & LeisureTime & SocialInteractionIntensity & AlcoholConsumptionWorkday & AlcoholConsumptionWeekend & HealthStatus & SchoolAbsences & FirstPeriodGrade & SecondPeriodGrade & FinalGrade\\\\\n",
       "\\hline\n",
       "\t GP         & F          & 18         & U          & GT3        & A          & 4          & 4          & at\\_home  & teacher    & ⋯          & 4          & 3          & 4          & 1          & 1          & 3          &  6         &  5         &  6         &  6        \\\\\n",
       "\t GP         & F          & 17         & U          & GT3        & T          & 1          & 1          & at\\_home  & other      & ⋯          & 5          & 3          & 3          & 1          & 1          & 3          &  4         &  5         &  5         &  6        \\\\\n",
       "\t GP         & F          & 15         & U          & LE3        & T          & 1          & 1          & at\\_home  & other      & ⋯          & 4          & 3          & 2          & 2          & 3          & 3          & 10         &  7         &  8         & 10        \\\\\n",
       "\t GP       & F        & 15       & U        & GT3      & T        & 4        & 2        & health   & services & ⋯        & 3        & 2        & 2        & 1        & 1        & 5        &  2       & 15       & 14       & 15      \\\\\n",
       "\t GP       & F        & 16       & U        & GT3      & T        & 3        & 3        & other    & other    & ⋯        & 4        & 3        & 2        & 1        & 2        & 5        &  4       &  6       & 10       & 10      \\\\\n",
       "\t GP       & M        & 16       & U        & LE3      & T        & 4        & 3        & services & other    & ⋯        & 5        & 4        & 2        & 1        & 2        & 5        & 10       & 15       & 15       & 15      \\\\\n",
       "\\end{tabular}\n"
      ],
      "text/markdown": [
       "\n",
       "School | Sex | Age | HomeArea | FamilySize | ParentStatus | EducationMother | EducationFather | JobMother | JobFather | ⋯ | FamilyRelationship | LeisureTime | SocialInteractionIntensity | AlcoholConsumptionWorkday | AlcoholConsumptionWeekend | HealthStatus | SchoolAbsences | FirstPeriodGrade | SecondPeriodGrade | FinalGrade | \n",
       "|---|---|---|---|---|---|\n",
       "| GP       | F        | 18       | U        | GT3      | A        | 4        | 4        | at_home  | teacher  | ⋯        | 4        | 3        | 4        | 1        | 1        | 3        |  6       |  5       |  6       |  6       | \n",
       "| GP       | F        | 17       | U        | GT3      | T        | 1        | 1        | at_home  | other    | ⋯        | 5        | 3        | 3        | 1        | 1        | 3        |  4       |  5       |  5       |  6       | \n",
       "| GP       | F        | 15       | U        | LE3      | T        | 1        | 1        | at_home  | other    | ⋯        | 4        | 3        | 2        | 2        | 3        | 3        | 10       |  7       |  8       | 10       | \n",
       "| GP       | F        | 15       | U        | GT3      | T        | 4        | 2        | health   | services | ⋯        | 3        | 2        | 2        | 1        | 1        | 5        |  2       | 15       | 14       | 15       | \n",
       "| GP       | F        | 16       | U        | GT3      | T        | 3        | 3        | other    | other    | ⋯        | 4        | 3        | 2        | 1        | 2        | 5        |  4       |  6       | 10       | 10       | \n",
       "| GP       | M        | 16       | U        | LE3      | T        | 4        | 3        | services | other    | ⋯        | 5        | 4        | 2        | 1        | 2        | 5        | 10       | 15       | 15       | 15       | \n",
       "\n",
       "\n"
      ],
      "text/plain": [
       "  School Sex Age HomeArea FamilySize ParentStatus EducationMother\n",
       "1 GP     F   18  U        GT3        A            4              \n",
       "2 GP     F   17  U        GT3        T            1              \n",
       "3 GP     F   15  U        LE3        T            1              \n",
       "4 GP     F   15  U        GT3        T            4              \n",
       "5 GP     F   16  U        GT3        T            3              \n",
       "6 GP     M   16  U        LE3        T            4              \n",
       "  EducationFather JobMother JobFather ⋯ FamilyRelationship LeisureTime\n",
       "1 4               at_home   teacher   ⋯ 4                  3          \n",
       "2 1               at_home   other     ⋯ 5                  3          \n",
       "3 1               at_home   other     ⋯ 4                  3          \n",
       "4 2               health    services  ⋯ 3                  2          \n",
       "5 3               other     other     ⋯ 4                  3          \n",
       "6 3               services  other     ⋯ 5                  4          \n",
       "  SocialInteractionIntensity AlcoholConsumptionWorkday\n",
       "1 4                          1                        \n",
       "2 3                          1                        \n",
       "3 2                          2                        \n",
       "4 2                          1                        \n",
       "5 2                          1                        \n",
       "6 2                          1                        \n",
       "  AlcoholConsumptionWeekend HealthStatus SchoolAbsences FirstPeriodGrade\n",
       "1 1                         3             6              5              \n",
       "2 1                         3             4              5              \n",
       "3 3                         3            10              7              \n",
       "4 1                         5             2             15              \n",
       "5 2                         5             4              6              \n",
       "6 2                         5            10             15              \n",
       "  SecondPeriodGrade FinalGrade\n",
       "1  6                 6        \n",
       "2  5                 6        \n",
       "3  8                10        \n",
       "4 14                15        \n",
       "5 10                10        \n",
       "6 15                15        "
      ]
     },
     "metadata": {},
     "output_type": "display_data"
    }
   ],
   "source": [
    "df <- df %>%\n",
    "    rename(Sex = sex,\n",
    "           Age = age,\n",
    "           School = school,\n",
    "           HomeArea = address,\n",
    "           ParentStatus = Pstatus,\n",
    "           EducationMother = Medu,\n",
    "           JobMother = Mjob,\n",
    "           EducationFather = Fedu,\n",
    "           JobFather = Fjob,\n",
    "           Guardian = guardian,\n",
    "           FamilySize = famsize,\n",
    "           FamilyRelationship = famrel,\n",
    "           SchoolChoiceReason = reason,\n",
    "           TravelTime = traveltime,\n",
    "           StudyTime = studytime,\n",
    "           ClassFailed = failures,\n",
    "           EducationalSchoolSupport = schoolsup,\n",
    "           EducationalFamilySupport = famsup,\n",
    "           ExtraCurricularActivities = activities,\n",
    "           ExtraPaidClass = paid,\n",
    "           InternetAccess = internet,\n",
    "           AttendedNurserySchool = nursery,\n",
    "           TargetsHigherEducation = higher,\n",
    "           RelationshipStatus = romantic,\n",
    "           LeisureTime = freetime,\n",
    "           SocialInteractionIntensity = goout,\n",
    "           AlcoholConsumptionWeekend = Walc,\n",
    "           AlcoholConsumptionWorkday = Dalc,\n",
    "           HealthStatus = health,\n",
    "           SchoolAbsences = absences,\n",
    "           FirstPeriodGrade = G1,\n",
    "           SecondPeriodGrade = G2,\n",
    "           FinalGrade = G3) \n",
    "\n",
    "df %>% head"
   ]
  },
  {
   "cell_type": "markdown",
   "metadata": {
    "slideshow": {
     "slide_type": "fragment"
    }
   },
   "source": [
    "Now that we actually know what the columns mean we can start to think about their values.\n",
    "\n",
    "For instance\n",
    "* What does GP stand for? Is it a school type ?\n",
    "* What are the numbers in education? Years?\n",
    "* etc"
   ]
  },
  {
   "cell_type": "markdown",
   "metadata": {
    "slideshow": {
     "slide_type": "subslide"
    }
   },
   "source": [
    "#### Recode Values\n",
    "So lets recode the actual levels of categorical data into some that makes sense."
   ]
  },
  {
   "cell_type": "code",
   "execution_count": 154,
   "metadata": {
    "collapsed": false,
    "slideshow": {
     "slide_type": "skip"
    }
   },
   "outputs": [],
   "source": [
    "RecodeEducation <- function(x) recode(x, `0` = 'None', `1` = 'Primary', `2` = 'PrimaryExtended', `3` = 'SecondaryExtended', `4` = 'Higher') \n",
    "RecodeJob <- function(x) recode(x, teacher = 'Education', services = 'Services', at_home = 'Home', other = 'Other', health = 'Health')\n",
    "RecodeBinary <- function(x) recode(x, yes = 'Yes', no = 'No')\n",
    "RecodeLikert <- function(x) recode(x, `1` = 'VeryLow', `2` = 'Low', `3` = 'Medium', `4` = 'High', `5` = 'VeryHigh')\n",
    "    \n",
    "df <- df %>%\n",
    "    mutate(Sex = recode(Sex, F = 'Female', M = 'Male'),\n",
    "           School = recode(School, GP = 'GabrielPereira', MS = 'MousinhoDaSilveira'),\n",
    "           HomeArea = recode(HomeArea, U = 'Urban', R = 'Rural'),\n",
    "           ParentStatus = recode(ParentStatus, T = 'Together', A = 'Apart'),\n",
    "           EducationMother = RecodeEducation(EducationMother),\n",
    "           JobMother = RecodeJob(JobMother),\n",
    "           EducationFather = RecodeEducation(EducationFather),\n",
    "           JobFather = RecodeJob(JobFather),\n",
    "           Guardian = recode(Guardian, mother = 'Mother', father = 'Father', other = 'Other'),\n",
    "           FamilySize = recode(FamilySize, GT3 = 'Large', LE3 = 'Small'),\n",
    "           FamilyRelationship = recode(FamilyRelationship, `1` = 'VeryBad', `2` = 'Bad', `3` = 'Ok', `4` = 'Good', `5` = 'VeryGood'),\n",
    "           SchoolChoiceReason = recode(SchoolChoiceReason, course = 'CoursePreference', other = 'Other', home = 'HomeProximity', reputation = 'Reputation'),\n",
    "           TravelTime = recode(TravelTime, `1` = 'x < 15', `2` = '15 <= x < 30', `3` = '30 <= x < 60', `4` = 'x >= 60'),\n",
    "           StudyTime = recode(StudyTime, `1` = 'x < 120', `2` = '120 <= x < 300', `3` = '300 <= x < 600', `4` = 'x >= 600')) %>%\n",
    "    mutate_at(vars(EducationMother, EducationFather), .funs = RecodeEducation) %>%\n",
    "    mutate_at(vars(JobMother, JobFather), .funs = RecodeJob) %>%\n",
    "    mutate_at(vars(EducationalFamilySupport, \n",
    "                   EducationalSchoolSupport, \n",
    "                   ExtraCurricularActivities, \n",
    "                   ExtraPaidClass, \n",
    "                   InternetAccess, \n",
    "                   AttendedNurserySchool, \n",
    "                   TargetsHigherEducation, \n",
    "                   RelationshipStatus),\n",
    "              .funs = RecodeBinary) %>%\n",
    "    mutate_at(vars(LeisureTime,\n",
    "                   SocialInteractionIntensity,\n",
    "                   AlcoholConsumptionWeekend,\n",
    "                   AlcoholConsumptionWorkday,\n",
    "                   HealthStatus),\n",
    "              .funs = RecodeLikert)"
   ]
  },
  {
   "cell_type": "code",
   "execution_count": 155,
   "metadata": {
    "collapsed": false,
    "slideshow": {
     "slide_type": "fragment"
    }
   },
   "outputs": [
    {
     "data": {
      "text/html": [
       "<table>\n",
       "<thead><tr><th scope=col>School</th><th scope=col>Sex</th><th scope=col>Age</th><th scope=col>HomeArea</th><th scope=col>FamilySize</th><th scope=col>ParentStatus</th><th scope=col>EducationMother</th><th scope=col>EducationFather</th><th scope=col>JobMother</th><th scope=col>JobFather</th><th scope=col>⋯</th><th scope=col>FamilyRelationship</th><th scope=col>LeisureTime</th><th scope=col>SocialInteractionIntensity</th><th scope=col>AlcoholConsumptionWorkday</th><th scope=col>AlcoholConsumptionWeekend</th><th scope=col>HealthStatus</th><th scope=col>SchoolAbsences</th><th scope=col>FirstPeriodGrade</th><th scope=col>SecondPeriodGrade</th><th scope=col>FinalGrade</th></tr></thead>\n",
       "<tbody>\n",
       "\t<tr><td>GabrielPereira   </td><td>Female           </td><td>18               </td><td>Urban            </td><td>Large            </td><td>Apart            </td><td>Higher           </td><td>Higher           </td><td>Home             </td><td>Education        </td><td>⋯                </td><td>Good             </td><td>Medium           </td><td>High             </td><td>VeryLow          </td><td>VeryLow          </td><td>Medium           </td><td> 6               </td><td> 5               </td><td> 6               </td><td> 6               </td></tr>\n",
       "\t<tr><td>GabrielPereira   </td><td>Female           </td><td>17               </td><td>Urban            </td><td>Large            </td><td>Together         </td><td>Primary          </td><td>Primary          </td><td>Home             </td><td>Other            </td><td>⋯                </td><td>VeryGood         </td><td>Medium           </td><td>Medium           </td><td>VeryLow          </td><td>VeryLow          </td><td>Medium           </td><td> 4               </td><td> 5               </td><td> 5               </td><td> 6               </td></tr>\n",
       "\t<tr><td>GabrielPereira   </td><td>Female           </td><td>15               </td><td>Urban            </td><td>Small            </td><td>Together         </td><td>Primary          </td><td>Primary          </td><td>Home             </td><td>Other            </td><td>⋯                </td><td>Good             </td><td>Medium           </td><td>Low              </td><td>Low              </td><td>Medium           </td><td>Medium           </td><td>10               </td><td> 7               </td><td> 8               </td><td>10               </td></tr>\n",
       "\t<tr><td>GabrielPereira   </td><td>Female           </td><td>15               </td><td>Urban            </td><td>Large            </td><td>Together         </td><td>Higher           </td><td>PrimaryExtended  </td><td>Health           </td><td>Services         </td><td>⋯                </td><td>Ok               </td><td>Low              </td><td>Low              </td><td>VeryLow          </td><td>VeryLow          </td><td>VeryHigh         </td><td> 2               </td><td>15               </td><td>14               </td><td>15               </td></tr>\n",
       "\t<tr><td>GabrielPereira   </td><td>Female           </td><td>16               </td><td>Urban            </td><td>Large            </td><td>Together         </td><td>SecondaryExtended</td><td>SecondaryExtended</td><td>Other            </td><td>Other            </td><td>⋯                </td><td>Good             </td><td>Medium           </td><td>Low              </td><td>VeryLow          </td><td>Low              </td><td>VeryHigh         </td><td> 4               </td><td> 6               </td><td>10               </td><td>10               </td></tr>\n",
       "\t<tr><td>GabrielPereira   </td><td>Male             </td><td>16               </td><td>Urban            </td><td>Small            </td><td>Together         </td><td>Higher           </td><td>SecondaryExtended</td><td>Services         </td><td>Other            </td><td>⋯                </td><td>VeryGood         </td><td>High             </td><td>Low              </td><td>VeryLow          </td><td>Low              </td><td>VeryHigh         </td><td>10               </td><td>15               </td><td>15               </td><td>15               </td></tr>\n",
       "</tbody>\n",
       "</table>\n"
      ],
      "text/latex": [
       "\\begin{tabular}{r|lllllllllllllllllllllllllllllllll}\n",
       " School & Sex & Age & HomeArea & FamilySize & ParentStatus & EducationMother & EducationFather & JobMother & JobFather & ⋯ & FamilyRelationship & LeisureTime & SocialInteractionIntensity & AlcoholConsumptionWorkday & AlcoholConsumptionWeekend & HealthStatus & SchoolAbsences & FirstPeriodGrade & SecondPeriodGrade & FinalGrade\\\\\n",
       "\\hline\n",
       "\t GabrielPereira    & Female            & 18                & Urban             & Large             & Apart             & Higher            & Higher            & Home              & Education         & ⋯                 & Good              & Medium            & High              & VeryLow           & VeryLow           & Medium            &  6                &  5                &  6                &  6               \\\\\n",
       "\t GabrielPereira    & Female            & 17                & Urban             & Large             & Together          & Primary           & Primary           & Home              & Other             & ⋯                 & VeryGood          & Medium            & Medium            & VeryLow           & VeryLow           & Medium            &  4                &  5                &  5                &  6               \\\\\n",
       "\t GabrielPereira    & Female            & 15                & Urban             & Small             & Together          & Primary           & Primary           & Home              & Other             & ⋯                 & Good              & Medium            & Low               & Low               & Medium            & Medium            & 10                &  7                &  8                & 10               \\\\\n",
       "\t GabrielPereira    & Female            & 15                & Urban             & Large             & Together          & Higher            & PrimaryExtended   & Health            & Services          & ⋯                 & Ok                & Low               & Low               & VeryLow           & VeryLow           & VeryHigh          &  2                & 15                & 14                & 15               \\\\\n",
       "\t GabrielPereira    & Female            & 16                & Urban             & Large             & Together          & SecondaryExtended & SecondaryExtended & Other             & Other             & ⋯                 & Good              & Medium            & Low               & VeryLow           & Low               & VeryHigh          &  4                &  6                & 10                & 10               \\\\\n",
       "\t GabrielPereira    & Male              & 16                & Urban             & Small             & Together          & Higher            & SecondaryExtended & Services          & Other             & ⋯                 & VeryGood          & High              & Low               & VeryLow           & Low               & VeryHigh          & 10                & 15                & 15                & 15               \\\\\n",
       "\\end{tabular}\n"
      ],
      "text/markdown": [
       "\n",
       "School | Sex | Age | HomeArea | FamilySize | ParentStatus | EducationMother | EducationFather | JobMother | JobFather | ⋯ | FamilyRelationship | LeisureTime | SocialInteractionIntensity | AlcoholConsumptionWorkday | AlcoholConsumptionWeekend | HealthStatus | SchoolAbsences | FirstPeriodGrade | SecondPeriodGrade | FinalGrade | \n",
       "|---|---|---|---|---|---|\n",
       "| GabrielPereira    | Female            | 18                | Urban             | Large             | Apart             | Higher            | Higher            | Home              | Education         | ⋯                 | Good              | Medium            | High              | VeryLow           | VeryLow           | Medium            |  6                |  5                |  6                |  6                | \n",
       "| GabrielPereira    | Female            | 17                | Urban             | Large             | Together          | Primary           | Primary           | Home              | Other             | ⋯                 | VeryGood          | Medium            | Medium            | VeryLow           | VeryLow           | Medium            |  4                |  5                |  5                |  6                | \n",
       "| GabrielPereira    | Female            | 15                | Urban             | Small             | Together          | Primary           | Primary           | Home              | Other             | ⋯                 | Good              | Medium            | Low               | Low               | Medium            | Medium            | 10                |  7                |  8                | 10                | \n",
       "| GabrielPereira    | Female            | 15                | Urban             | Large             | Together          | Higher            | PrimaryExtended   | Health            | Services          | ⋯                 | Ok                | Low               | Low               | VeryLow           | VeryLow           | VeryHigh          |  2                | 15                | 14                | 15                | \n",
       "| GabrielPereira    | Female            | 16                | Urban             | Large             | Together          | SecondaryExtended | SecondaryExtended | Other             | Other             | ⋯                 | Good              | Medium            | Low               | VeryLow           | Low               | VeryHigh          |  4                |  6                | 10                | 10                | \n",
       "| GabrielPereira    | Male              | 16                | Urban             | Small             | Together          | Higher            | SecondaryExtended | Services          | Other             | ⋯                 | VeryGood          | High              | Low               | VeryLow           | Low               | VeryHigh          | 10                | 15                | 15                | 15                | \n",
       "\n",
       "\n"
      ],
      "text/plain": [
       "  School         Sex    Age HomeArea FamilySize ParentStatus EducationMother  \n",
       "1 GabrielPereira Female 18  Urban    Large      Apart        Higher           \n",
       "2 GabrielPereira Female 17  Urban    Large      Together     Primary          \n",
       "3 GabrielPereira Female 15  Urban    Small      Together     Primary          \n",
       "4 GabrielPereira Female 15  Urban    Large      Together     Higher           \n",
       "5 GabrielPereira Female 16  Urban    Large      Together     SecondaryExtended\n",
       "6 GabrielPereira Male   16  Urban    Small      Together     Higher           \n",
       "  EducationFather   JobMother JobFather ⋯ FamilyRelationship LeisureTime\n",
       "1 Higher            Home      Education ⋯ Good               Medium     \n",
       "2 Primary           Home      Other     ⋯ VeryGood           Medium     \n",
       "3 Primary           Home      Other     ⋯ Good               Medium     \n",
       "4 PrimaryExtended   Health    Services  ⋯ Ok                 Low        \n",
       "5 SecondaryExtended Other     Other     ⋯ Good               Medium     \n",
       "6 SecondaryExtended Services  Other     ⋯ VeryGood           High       \n",
       "  SocialInteractionIntensity AlcoholConsumptionWorkday\n",
       "1 High                       VeryLow                  \n",
       "2 Medium                     VeryLow                  \n",
       "3 Low                        Low                      \n",
       "4 Low                        VeryLow                  \n",
       "5 Low                        VeryLow                  \n",
       "6 Low                        VeryLow                  \n",
       "  AlcoholConsumptionWeekend HealthStatus SchoolAbsences FirstPeriodGrade\n",
       "1 VeryLow                   Medium        6              5              \n",
       "2 VeryLow                   Medium        4              5              \n",
       "3 Medium                    Medium       10              7              \n",
       "4 VeryLow                   VeryHigh      2             15              \n",
       "5 Low                       VeryHigh      4              6              \n",
       "6 Low                       VeryHigh     10             15              \n",
       "  SecondPeriodGrade FinalGrade\n",
       "1  6                 6        \n",
       "2  5                 6        \n",
       "3  8                10        \n",
       "4 14                15        \n",
       "5 10                10        \n",
       "6 15                15        "
      ]
     },
     "metadata": {},
     "output_type": "display_data"
    }
   ],
   "source": [
    "df %>% head"
   ]
  },
  {
   "cell_type": "markdown",
   "metadata": {
    "slideshow": {
     "slide_type": "fragment"
    }
   },
   "source": [
    "This is much more readable and understandable and we can make quick sanity checks.\n",
    "For instance, now we actually know that education is categorical data but on a different scale as family relationship and so forth."
   ]
  },
  {
   "cell_type": "markdown",
   "metadata": {
    "slideshow": {
     "slide_type": "slide"
    }
   },
   "source": [
    "### Inspect data\n",
    "Next we want to check the basic characteristics the data frame in order:\n",
    "\n",
    "* Are the variables names correct?\n",
    "* Is the type correct?\n",
    "* Is the basic distribution of your categorical data as expected or did you omit, reverse, lost values?\n",
    "* Is the basic distribution of you interval data as expected or are the maxima, mean, quantiles off?\n",
    "* Are all variables of the correct type (factor or characters)?\n",
    "* Are all variables really variables or are they actual values?\n",
    "* Do you have a unique identifier for each observation?"
   ]
  },
  {
   "cell_type": "code",
   "execution_count": 156,
   "metadata": {
    "collapsed": false,
    "slideshow": {
     "slide_type": "fragment"
    }
   },
   "outputs": [
    {
     "data": {
      "text/plain": [
       "                School        Sex           Age        HomeArea   FamilySize \n",
       " GabrielPereira    :349   Female:208   Min.   :15.0   Rural: 88   Large:281  \n",
       " MousinhoDaSilveira: 46   Male  :187   1st Qu.:16.0   Urban:307   Small:114  \n",
       "                                       Median :17.0                          \n",
       "                                       Mean   :16.7                          \n",
       "                                       3rd Qu.:18.0                          \n",
       "                                       Max.   :22.0                          \n",
       "   ParentStatus EducationMother    EducationFather        JobMother  \n",
       " Apart   : 41   Length:395         Length:395         Home     : 59  \n",
       " Together:354   Class :character   Class :character   Health   : 34  \n",
       "                Mode  :character   Mode  :character   Other    :141  \n",
       "                                                      Services :103  \n",
       "                                                      Education: 58  \n",
       "                                                                     \n",
       "     JobFather          SchoolChoiceReason   Guardian    TravelTime       \n",
       " Home     : 20   CoursePreference:145      Father: 90   Length:395        \n",
       " Health   : 18   HomeProximity   :109      Mother:273   Class :character  \n",
       " Other    :217   Other           : 36      Other : 32   Mode  :character  \n",
       " Services :111   Reputation      :105                                     \n",
       " Education: 29                                                            \n",
       "                                                                          \n",
       "  StudyTime          ClassFailed     EducationalSchoolSupport\n",
       " Length:395         Min.   :0.0000   No :344                 \n",
       " Class :character   1st Qu.:0.0000   Yes: 51                 \n",
       " Mode  :character   Median :0.0000                           \n",
       "                    Mean   :0.3342                           \n",
       "                    3rd Qu.:0.0000                           \n",
       "                    Max.   :3.0000                           \n",
       " EducationalFamilySupport ExtraPaidClass ExtraCurricularActivities\n",
       " No :153                  No :214        No :194                  \n",
       " Yes:242                  Yes:181        Yes:201                  \n",
       "                                                                  \n",
       "                                                                  \n",
       "                                                                  \n",
       "                                                                  \n",
       " AttendedNurserySchool TargetsHigherEducation InternetAccess RelationshipStatus\n",
       " No : 81               No : 20                No : 66        No :263           \n",
       " Yes:314               Yes:375                Yes:329        Yes:132           \n",
       "                                                                               \n",
       "                                                                               \n",
       "                                                                               \n",
       "                                                                               \n",
       " FamilyRelationship LeisureTime        SocialInteractionIntensity\n",
       " Length:395         Length:395         Length:395                \n",
       " Class :character   Class :character   Class :character          \n",
       " Mode  :character   Mode  :character   Mode  :character          \n",
       "                                                                 \n",
       "                                                                 \n",
       "                                                                 \n",
       " AlcoholConsumptionWorkday AlcoholConsumptionWeekend HealthStatus      \n",
       " Length:395                Length:395                Length:395        \n",
       " Class :character          Class :character          Class :character  \n",
       " Mode  :character          Mode  :character          Mode  :character  \n",
       "                                                                       \n",
       "                                                                       \n",
       "                                                                       \n",
       " SchoolAbsences   FirstPeriodGrade SecondPeriodGrade   FinalGrade   \n",
       " Min.   : 0.000   Min.   : 3.00    Min.   : 0.00     Min.   : 0.00  \n",
       " 1st Qu.: 0.000   1st Qu.: 8.00    1st Qu.: 9.00     1st Qu.: 8.00  \n",
       " Median : 4.000   Median :11.00    Median :11.00     Median :11.00  \n",
       " Mean   : 5.709   Mean   :10.91    Mean   :10.71     Mean   :10.42  \n",
       " 3rd Qu.: 8.000   3rd Qu.:13.00    3rd Qu.:13.00     3rd Qu.:14.00  \n",
       " Max.   :75.000   Max.   :19.00    Max.   :19.00     Max.   :20.00  "
      ]
     },
     "metadata": {},
     "output_type": "display_data"
    }
   ],
   "source": [
    "summary(df)"
   ]
  },
  {
   "cell_type": "markdown",
   "metadata": {
    "slideshow": {
     "slide_type": "slide"
    }
   },
   "source": [
    "### Conclusion on Cleaning & Tidying Data\n",
    "\n",
    "* Columns are variables and rows are observations\n",
    "* Each data frame captures one concept\n",
    "* Be consistent in naming and use style guides\n",
    "* Inspect you data frame via summary but also the actual cleaned values\n",
    "* Encapsulate your tidying logic in its own script to avoid change propagation\n"
   ]
  },
  {
   "cell_type": "markdown",
   "metadata": {
    "slideshow": {
     "slide_type": "slide"
    }
   },
   "source": [
    "## Working with Data Frames using Dplyr\n",
    "\n",
    "Typical task are:\n",
    "\n",
    "* **[Reshaping] ** How can i reshape the entire data frame?\n",
    "* **[Windowing]** How can we compute new columns?\n",
    "* **[Summarise]** How can we compute summary statistics?\n",
    "* **[Selecting]** How can we select specific columns?\n",
    "* **[Filtering]** How can we select specific rows?\n",
    "* **[Grouping]** How can we group parts of the data frame?\n",
    "* **[Joining]** How can we join tabes?\n",
    "* **[Ordering]** How can we order data frames?\n",
    "* **[Distinct]** How can we retrieve unique values?\n",
    "* **[Checking]** How can we check results?"
   ]
  },
  {
   "cell_type": "markdown",
   "metadata": {
    "slideshow": {
     "slide_type": "slide"
    }
   },
   "source": [
    "### Example - Adding Identifiers\n",
    "\n",
    "One important thing are identifiers for observations. They help during joins and to keep track of the different observations after reshaping activities."
   ]
  },
  {
   "cell_type": "markdown",
   "metadata": {
    "slideshow": {
     "slide_type": "fragment"
    }
   },
   "source": [
    "How can we add an identifier for each observation?"
   ]
  },
  {
   "cell_type": "code",
   "execution_count": 157,
   "metadata": {
    "collapsed": false,
    "slideshow": {
     "slide_type": "fragment"
    }
   },
   "outputs": [
    {
     "data": {
      "text/html": [
       "<table>\n",
       "<thead><tr><th scope=col>Id</th><th scope=col>School</th><th scope=col>Sex</th><th scope=col>Age</th><th scope=col>HomeArea</th><th scope=col>FamilySize</th><th scope=col>ParentStatus</th><th scope=col>EducationMother</th><th scope=col>EducationFather</th><th scope=col>JobMother</th><th scope=col>⋯</th><th scope=col>FamilyRelationship</th><th scope=col>LeisureTime</th><th scope=col>SocialInteractionIntensity</th><th scope=col>AlcoholConsumptionWorkday</th><th scope=col>AlcoholConsumptionWeekend</th><th scope=col>HealthStatus</th><th scope=col>SchoolAbsences</th><th scope=col>FirstPeriodGrade</th><th scope=col>SecondPeriodGrade</th><th scope=col>FinalGrade</th></tr></thead>\n",
       "<tbody>\n",
       "\t<tr><td>1                </td><td>GabrielPereira   </td><td>Female           </td><td>18               </td><td>Urban            </td><td>Large            </td><td>Apart            </td><td>Higher           </td><td>Higher           </td><td>Home             </td><td>⋯                </td><td>Good             </td><td>Medium           </td><td>High             </td><td>VeryLow          </td><td>VeryLow          </td><td>Medium           </td><td> 6               </td><td> 5               </td><td> 6               </td><td> 6               </td></tr>\n",
       "\t<tr><td>2                </td><td>GabrielPereira   </td><td>Female           </td><td>17               </td><td>Urban            </td><td>Large            </td><td>Together         </td><td>Primary          </td><td>Primary          </td><td>Home             </td><td>⋯                </td><td>VeryGood         </td><td>Medium           </td><td>Medium           </td><td>VeryLow          </td><td>VeryLow          </td><td>Medium           </td><td> 4               </td><td> 5               </td><td> 5               </td><td> 6               </td></tr>\n",
       "\t<tr><td>3                </td><td>GabrielPereira   </td><td>Female           </td><td>15               </td><td>Urban            </td><td>Small            </td><td>Together         </td><td>Primary          </td><td>Primary          </td><td>Home             </td><td>⋯                </td><td>Good             </td><td>Medium           </td><td>Low              </td><td>Low              </td><td>Medium           </td><td>Medium           </td><td>10               </td><td> 7               </td><td> 8               </td><td>10               </td></tr>\n",
       "\t<tr><td>4                </td><td>GabrielPereira   </td><td>Female           </td><td>15               </td><td>Urban            </td><td>Large            </td><td>Together         </td><td>Higher           </td><td>PrimaryExtended  </td><td>Health           </td><td>⋯                </td><td>Ok               </td><td>Low              </td><td>Low              </td><td>VeryLow          </td><td>VeryLow          </td><td>VeryHigh         </td><td> 2               </td><td>15               </td><td>14               </td><td>15               </td></tr>\n",
       "\t<tr><td>5                </td><td>GabrielPereira   </td><td>Female           </td><td>16               </td><td>Urban            </td><td>Large            </td><td>Together         </td><td>SecondaryExtended</td><td>SecondaryExtended</td><td>Other            </td><td>⋯                </td><td>Good             </td><td>Medium           </td><td>Low              </td><td>VeryLow          </td><td>Low              </td><td>VeryHigh         </td><td> 4               </td><td> 6               </td><td>10               </td><td>10               </td></tr>\n",
       "\t<tr><td>6                </td><td>GabrielPereira   </td><td>Male             </td><td>16               </td><td>Urban            </td><td>Small            </td><td>Together         </td><td>Higher           </td><td>SecondaryExtended</td><td>Services         </td><td>⋯                </td><td>VeryGood         </td><td>High             </td><td>Low              </td><td>VeryLow          </td><td>Low              </td><td>VeryHigh         </td><td>10               </td><td>15               </td><td>15               </td><td>15               </td></tr>\n",
       "</tbody>\n",
       "</table>\n"
      ],
      "text/latex": [
       "\\begin{tabular}{r|llllllllllllllllllllllllllllllllll}\n",
       " Id & School & Sex & Age & HomeArea & FamilySize & ParentStatus & EducationMother & EducationFather & JobMother & ⋯ & FamilyRelationship & LeisureTime & SocialInteractionIntensity & AlcoholConsumptionWorkday & AlcoholConsumptionWeekend & HealthStatus & SchoolAbsences & FirstPeriodGrade & SecondPeriodGrade & FinalGrade\\\\\n",
       "\\hline\n",
       "\t 1                 & GabrielPereira    & Female            & 18                & Urban             & Large             & Apart             & Higher            & Higher            & Home              & ⋯                 & Good              & Medium            & High              & VeryLow           & VeryLow           & Medium            &  6                &  5                &  6                &  6               \\\\\n",
       "\t 2                 & GabrielPereira    & Female            & 17                & Urban             & Large             & Together          & Primary           & Primary           & Home              & ⋯                 & VeryGood          & Medium            & Medium            & VeryLow           & VeryLow           & Medium            &  4                &  5                &  5                &  6               \\\\\n",
       "\t 3                 & GabrielPereira    & Female            & 15                & Urban             & Small             & Together          & Primary           & Primary           & Home              & ⋯                 & Good              & Medium            & Low               & Low               & Medium            & Medium            & 10                &  7                &  8                & 10               \\\\\n",
       "\t 4                 & GabrielPereira    & Female            & 15                & Urban             & Large             & Together          & Higher            & PrimaryExtended   & Health            & ⋯                 & Ok                & Low               & Low               & VeryLow           & VeryLow           & VeryHigh          &  2                & 15                & 14                & 15               \\\\\n",
       "\t 5                 & GabrielPereira    & Female            & 16                & Urban             & Large             & Together          & SecondaryExtended & SecondaryExtended & Other             & ⋯                 & Good              & Medium            & Low               & VeryLow           & Low               & VeryHigh          &  4                &  6                & 10                & 10               \\\\\n",
       "\t 6                 & GabrielPereira    & Male              & 16                & Urban             & Small             & Together          & Higher            & SecondaryExtended & Services          & ⋯                 & VeryGood          & High              & Low               & VeryLow           & Low               & VeryHigh          & 10                & 15                & 15                & 15               \\\\\n",
       "\\end{tabular}\n"
      ],
      "text/markdown": [
       "\n",
       "Id | School | Sex | Age | HomeArea | FamilySize | ParentStatus | EducationMother | EducationFather | JobMother | ⋯ | FamilyRelationship | LeisureTime | SocialInteractionIntensity | AlcoholConsumptionWorkday | AlcoholConsumptionWeekend | HealthStatus | SchoolAbsences | FirstPeriodGrade | SecondPeriodGrade | FinalGrade | \n",
       "|---|---|---|---|---|---|\n",
       "| 1                 | GabrielPereira    | Female            | 18                | Urban             | Large             | Apart             | Higher            | Higher            | Home              | ⋯                 | Good              | Medium            | High              | VeryLow           | VeryLow           | Medium            |  6                |  5                |  6                |  6                | \n",
       "| 2                 | GabrielPereira    | Female            | 17                | Urban             | Large             | Together          | Primary           | Primary           | Home              | ⋯                 | VeryGood          | Medium            | Medium            | VeryLow           | VeryLow           | Medium            |  4                |  5                |  5                |  6                | \n",
       "| 3                 | GabrielPereira    | Female            | 15                | Urban             | Small             | Together          | Primary           | Primary           | Home              | ⋯                 | Good              | Medium            | Low               | Low               | Medium            | Medium            | 10                |  7                |  8                | 10                | \n",
       "| 4                 | GabrielPereira    | Female            | 15                | Urban             | Large             | Together          | Higher            | PrimaryExtended   | Health            | ⋯                 | Ok                | Low               | Low               | VeryLow           | VeryLow           | VeryHigh          |  2                | 15                | 14                | 15                | \n",
       "| 5                 | GabrielPereira    | Female            | 16                | Urban             | Large             | Together          | SecondaryExtended | SecondaryExtended | Other             | ⋯                 | Good              | Medium            | Low               | VeryLow           | Low               | VeryHigh          |  4                |  6                | 10                | 10                | \n",
       "| 6                 | GabrielPereira    | Male              | 16                | Urban             | Small             | Together          | Higher            | SecondaryExtended | Services          | ⋯                 | VeryGood          | High              | Low               | VeryLow           | Low               | VeryHigh          | 10                | 15                | 15                | 15                | \n",
       "\n",
       "\n"
      ],
      "text/plain": [
       "  Id School         Sex    Age HomeArea FamilySize ParentStatus\n",
       "1 1  GabrielPereira Female 18  Urban    Large      Apart       \n",
       "2 2  GabrielPereira Female 17  Urban    Large      Together    \n",
       "3 3  GabrielPereira Female 15  Urban    Small      Together    \n",
       "4 4  GabrielPereira Female 15  Urban    Large      Together    \n",
       "5 5  GabrielPereira Female 16  Urban    Large      Together    \n",
       "6 6  GabrielPereira Male   16  Urban    Small      Together    \n",
       "  EducationMother   EducationFather   JobMother ⋯ FamilyRelationship\n",
       "1 Higher            Higher            Home      ⋯ Good              \n",
       "2 Primary           Primary           Home      ⋯ VeryGood          \n",
       "3 Primary           Primary           Home      ⋯ Good              \n",
       "4 Higher            PrimaryExtended   Health    ⋯ Ok                \n",
       "5 SecondaryExtended SecondaryExtended Other     ⋯ Good              \n",
       "6 Higher            SecondaryExtended Services  ⋯ VeryGood          \n",
       "  LeisureTime SocialInteractionIntensity AlcoholConsumptionWorkday\n",
       "1 Medium      High                       VeryLow                  \n",
       "2 Medium      Medium                     VeryLow                  \n",
       "3 Medium      Low                        Low                      \n",
       "4 Low         Low                        VeryLow                  \n",
       "5 Medium      Low                        VeryLow                  \n",
       "6 High        Low                        VeryLow                  \n",
       "  AlcoholConsumptionWeekend HealthStatus SchoolAbsences FirstPeriodGrade\n",
       "1 VeryLow                   Medium        6              5              \n",
       "2 VeryLow                   Medium        4              5              \n",
       "3 Medium                    Medium       10              7              \n",
       "4 VeryLow                   VeryHigh      2             15              \n",
       "5 Low                       VeryHigh      4              6              \n",
       "6 Low                       VeryHigh     10             15              \n",
       "  SecondPeriodGrade FinalGrade\n",
       "1  6                 6        \n",
       "2  5                 6        \n",
       "3  8                10        \n",
       "4 14                15        \n",
       "5 10                10        \n",
       "6 15                15        "
      ]
     },
     "metadata": {},
     "output_type": "display_data"
    }
   ],
   "source": [
    "# [Windowing, Selecting]\n",
    "df <- df %>%\n",
    "    mutate(Id = row_number()) %>%\n",
    "    select(Id, everything())\n",
    "df %>% head"
   ]
  },
  {
   "cell_type": "markdown",
   "metadata": {
    "slideshow": {
     "slide_type": "slide"
    }
   },
   "source": [
    "### Example - Reshape Data Frame\n",
    "After cleaning the data, we noticed that G1-G3 are just different types of grade, thus values that should be contained within a column.\n",
    "We now might want to consolidate the three columns into on categorical column describing the type of grade (Frist, Second, Final) and one column that actually contains the mark itself."
   ]
  },
  {
   "cell_type": "code",
   "execution_count": 158,
   "metadata": {
    "collapsed": false,
    "slideshow": {
     "slide_type": "fragment"
    }
   },
   "outputs": [
    {
     "data": {
      "text/html": [
       "<table>\n",
       "<thead><tr><th scope=col>Id</th><th scope=col>School</th><th scope=col>Sex</th><th scope=col>Age</th><th scope=col>HomeArea</th><th scope=col>FamilySize</th><th scope=col>ParentStatus</th><th scope=col>EducationMother</th><th scope=col>EducationFather</th><th scope=col>JobMother</th><th scope=col>⋯</th><th scope=col>RelationshipStatus</th><th scope=col>FamilyRelationship</th><th scope=col>LeisureTime</th><th scope=col>SocialInteractionIntensity</th><th scope=col>AlcoholConsumptionWorkday</th><th scope=col>AlcoholConsumptionWeekend</th><th scope=col>HealthStatus</th><th scope=col>SchoolAbsences</th><th scope=col>GradeName</th><th scope=col>Grade</th></tr></thead>\n",
       "<tbody>\n",
       "\t<tr><td>1                </td><td>GabrielPereira   </td><td>Female           </td><td>18               </td><td>Urban            </td><td>Large            </td><td>Apart            </td><td>Higher           </td><td>Higher           </td><td>Home             </td><td>⋯                </td><td>No               </td><td>Good             </td><td>Medium           </td><td>High             </td><td>VeryLow          </td><td>VeryLow          </td><td>Medium           </td><td> 6               </td><td>FirstPeriodGrade </td><td> 5               </td></tr>\n",
       "\t<tr><td>2                </td><td>GabrielPereira   </td><td>Female           </td><td>17               </td><td>Urban            </td><td>Large            </td><td>Together         </td><td>Primary          </td><td>Primary          </td><td>Home             </td><td>⋯                </td><td>No               </td><td>VeryGood         </td><td>Medium           </td><td>Medium           </td><td>VeryLow          </td><td>VeryLow          </td><td>Medium           </td><td> 4               </td><td>FirstPeriodGrade </td><td> 5               </td></tr>\n",
       "\t<tr><td>3                </td><td>GabrielPereira   </td><td>Female           </td><td>15               </td><td>Urban            </td><td>Small            </td><td>Together         </td><td>Primary          </td><td>Primary          </td><td>Home             </td><td>⋯                </td><td>No               </td><td>Good             </td><td>Medium           </td><td>Low              </td><td>Low              </td><td>Medium           </td><td>Medium           </td><td>10               </td><td>FirstPeriodGrade </td><td> 7               </td></tr>\n",
       "\t<tr><td>4                </td><td>GabrielPereira   </td><td>Female           </td><td>15               </td><td>Urban            </td><td>Large            </td><td>Together         </td><td>Higher           </td><td>PrimaryExtended  </td><td>Health           </td><td>⋯                </td><td>Yes              </td><td>Ok               </td><td>Low              </td><td>Low              </td><td>VeryLow          </td><td>VeryLow          </td><td>VeryHigh         </td><td> 2               </td><td>FirstPeriodGrade </td><td>15               </td></tr>\n",
       "\t<tr><td>5                </td><td>GabrielPereira   </td><td>Female           </td><td>16               </td><td>Urban            </td><td>Large            </td><td>Together         </td><td>SecondaryExtended</td><td>SecondaryExtended</td><td>Other            </td><td>⋯                </td><td>No               </td><td>Good             </td><td>Medium           </td><td>Low              </td><td>VeryLow          </td><td>Low              </td><td>VeryHigh         </td><td> 4               </td><td>FirstPeriodGrade </td><td> 6               </td></tr>\n",
       "\t<tr><td>6                </td><td>GabrielPereira   </td><td>Male             </td><td>16               </td><td>Urban            </td><td>Small            </td><td>Together         </td><td>Higher           </td><td>SecondaryExtended</td><td>Services         </td><td>⋯                </td><td>No               </td><td>VeryGood         </td><td>High             </td><td>Low              </td><td>VeryLow          </td><td>Low              </td><td>VeryHigh         </td><td>10               </td><td>FirstPeriodGrade </td><td>15               </td></tr>\n",
       "</tbody>\n",
       "</table>\n"
      ],
      "text/latex": [
       "\\begin{tabular}{r|lllllllllllllllllllllllllllllllll}\n",
       " Id & School & Sex & Age & HomeArea & FamilySize & ParentStatus & EducationMother & EducationFather & JobMother & ⋯ & RelationshipStatus & FamilyRelationship & LeisureTime & SocialInteractionIntensity & AlcoholConsumptionWorkday & AlcoholConsumptionWeekend & HealthStatus & SchoolAbsences & GradeName & Grade\\\\\n",
       "\\hline\n",
       "\t 1                 & GabrielPereira    & Female            & 18                & Urban             & Large             & Apart             & Higher            & Higher            & Home              & ⋯                 & No                & Good              & Medium            & High              & VeryLow           & VeryLow           & Medium            &  6                & FirstPeriodGrade  &  5               \\\\\n",
       "\t 2                 & GabrielPereira    & Female            & 17                & Urban             & Large             & Together          & Primary           & Primary           & Home              & ⋯                 & No                & VeryGood          & Medium            & Medium            & VeryLow           & VeryLow           & Medium            &  4                & FirstPeriodGrade  &  5               \\\\\n",
       "\t 3                 & GabrielPereira    & Female            & 15                & Urban             & Small             & Together          & Primary           & Primary           & Home              & ⋯                 & No                & Good              & Medium            & Low               & Low               & Medium            & Medium            & 10                & FirstPeriodGrade  &  7               \\\\\n",
       "\t 4                 & GabrielPereira    & Female            & 15                & Urban             & Large             & Together          & Higher            & PrimaryExtended   & Health            & ⋯                 & Yes               & Ok                & Low               & Low               & VeryLow           & VeryLow           & VeryHigh          &  2                & FirstPeriodGrade  & 15               \\\\\n",
       "\t 5                 & GabrielPereira    & Female            & 16                & Urban             & Large             & Together          & SecondaryExtended & SecondaryExtended & Other             & ⋯                 & No                & Good              & Medium            & Low               & VeryLow           & Low               & VeryHigh          &  4                & FirstPeriodGrade  &  6               \\\\\n",
       "\t 6                 & GabrielPereira    & Male              & 16                & Urban             & Small             & Together          & Higher            & SecondaryExtended & Services          & ⋯                 & No                & VeryGood          & High              & Low               & VeryLow           & Low               & VeryHigh          & 10                & FirstPeriodGrade  & 15               \\\\\n",
       "\\end{tabular}\n"
      ],
      "text/markdown": [
       "\n",
       "Id | School | Sex | Age | HomeArea | FamilySize | ParentStatus | EducationMother | EducationFather | JobMother | ⋯ | RelationshipStatus | FamilyRelationship | LeisureTime | SocialInteractionIntensity | AlcoholConsumptionWorkday | AlcoholConsumptionWeekend | HealthStatus | SchoolAbsences | GradeName | Grade | \n",
       "|---|---|---|---|---|---|\n",
       "| 1                 | GabrielPereira    | Female            | 18                | Urban             | Large             | Apart             | Higher            | Higher            | Home              | ⋯                 | No                | Good              | Medium            | High              | VeryLow           | VeryLow           | Medium            |  6                | FirstPeriodGrade  |  5                | \n",
       "| 2                 | GabrielPereira    | Female            | 17                | Urban             | Large             | Together          | Primary           | Primary           | Home              | ⋯                 | No                | VeryGood          | Medium            | Medium            | VeryLow           | VeryLow           | Medium            |  4                | FirstPeriodGrade  |  5                | \n",
       "| 3                 | GabrielPereira    | Female            | 15                | Urban             | Small             | Together          | Primary           | Primary           | Home              | ⋯                 | No                | Good              | Medium            | Low               | Low               | Medium            | Medium            | 10                | FirstPeriodGrade  |  7                | \n",
       "| 4                 | GabrielPereira    | Female            | 15                | Urban             | Large             | Together          | Higher            | PrimaryExtended   | Health            | ⋯                 | Yes               | Ok                | Low               | Low               | VeryLow           | VeryLow           | VeryHigh          |  2                | FirstPeriodGrade  | 15                | \n",
       "| 5                 | GabrielPereira    | Female            | 16                | Urban             | Large             | Together          | SecondaryExtended | SecondaryExtended | Other             | ⋯                 | No                | Good              | Medium            | Low               | VeryLow           | Low               | VeryHigh          |  4                | FirstPeriodGrade  |  6                | \n",
       "| 6                 | GabrielPereira    | Male              | 16                | Urban             | Small             | Together          | Higher            | SecondaryExtended | Services          | ⋯                 | No                | VeryGood          | High              | Low               | VeryLow           | Low               | VeryHigh          | 10                | FirstPeriodGrade  | 15                | \n",
       "\n",
       "\n"
      ],
      "text/plain": [
       "  Id School         Sex    Age HomeArea FamilySize ParentStatus\n",
       "1 1  GabrielPereira Female 18  Urban    Large      Apart       \n",
       "2 2  GabrielPereira Female 17  Urban    Large      Together    \n",
       "3 3  GabrielPereira Female 15  Urban    Small      Together    \n",
       "4 4  GabrielPereira Female 15  Urban    Large      Together    \n",
       "5 5  GabrielPereira Female 16  Urban    Large      Together    \n",
       "6 6  GabrielPereira Male   16  Urban    Small      Together    \n",
       "  EducationMother   EducationFather   JobMother ⋯ RelationshipStatus\n",
       "1 Higher            Higher            Home      ⋯ No                \n",
       "2 Primary           Primary           Home      ⋯ No                \n",
       "3 Primary           Primary           Home      ⋯ No                \n",
       "4 Higher            PrimaryExtended   Health    ⋯ Yes               \n",
       "5 SecondaryExtended SecondaryExtended Other     ⋯ No                \n",
       "6 Higher            SecondaryExtended Services  ⋯ No                \n",
       "  FamilyRelationship LeisureTime SocialInteractionIntensity\n",
       "1 Good               Medium      High                      \n",
       "2 VeryGood           Medium      Medium                    \n",
       "3 Good               Medium      Low                       \n",
       "4 Ok                 Low         Low                       \n",
       "5 Good               Medium      Low                       \n",
       "6 VeryGood           High        Low                       \n",
       "  AlcoholConsumptionWorkday AlcoholConsumptionWeekend HealthStatus\n",
       "1 VeryLow                   VeryLow                   Medium      \n",
       "2 VeryLow                   VeryLow                   Medium      \n",
       "3 Low                       Medium                    Medium      \n",
       "4 VeryLow                   VeryLow                   VeryHigh    \n",
       "5 VeryLow                   Low                       VeryHigh    \n",
       "6 VeryLow                   Low                       VeryHigh    \n",
       "  SchoolAbsences GradeName        Grade\n",
       "1  6             FirstPeriodGrade  5   \n",
       "2  4             FirstPeriodGrade  5   \n",
       "3 10             FirstPeriodGrade  7   \n",
       "4  2             FirstPeriodGrade 15   \n",
       "5  4             FirstPeriodGrade  6   \n",
       "6 10             FirstPeriodGrade 15   "
      ]
     },
     "metadata": {},
     "output_type": "display_data"
    }
   ],
   "source": [
    "# [Reshaping]\n",
    "# use tidyr to collect multiple columns into two columns\n",
    "df <- df %>% \n",
    "    gather(key = GradeName, \n",
    "           value = Grade, \n",
    "           FirstPeriodGrade, SecondPeriodGrade, FinalGrade)\n",
    "df %>% head"
   ]
  },
  {
   "cell_type": "markdown",
   "metadata": {
    "slideshow": {
     "slide_type": "slide"
    }
   },
   "source": [
    "### Example - Convert Column\n",
    "What are the grades in the Austrian mark system?"
   ]
  },
  {
   "cell_type": "markdown",
   "metadata": {
    "slideshow": {
     "slide_type": "fragment"
    }
   },
   "source": [
    "One way to handle this is to organize the facts into named vectors."
   ]
  },
  {
   "cell_type": "code",
   "execution_count": 159,
   "metadata": {
    "collapsed": false,
    "slideshow": {
     "slide_type": "fragment"
    }
   },
   "outputs": [
    {
     "data": {
      "text/html": [
       "<dl class=dl-horizontal>\n",
       "\t<dt>worst</dt>\n",
       "\t\t<dd>0</dd>\n",
       "\t<dt>2</dt>\n",
       "\t\t<dd>1</dd>\n",
       "\t<dt>3</dt>\n",
       "\t\t<dd>2</dd>\n",
       "\t<dt>4</dt>\n",
       "\t\t<dd>3</dd>\n",
       "\t<dt>5</dt>\n",
       "\t\t<dd>4</dd>\n",
       "\t<dt>6</dt>\n",
       "\t\t<dd>5</dd>\n",
       "\t<dt>7</dt>\n",
       "\t\t<dd>6</dd>\n",
       "\t<dt>8</dt>\n",
       "\t\t<dd>7</dd>\n",
       "\t<dt>9</dt>\n",
       "\t\t<dd>8</dd>\n",
       "\t<dt>10</dt>\n",
       "\t\t<dd>9</dd>\n",
       "\t<dt>11</dt>\n",
       "\t\t<dd>10</dd>\n",
       "\t<dt>12</dt>\n",
       "\t\t<dd>11</dd>\n",
       "\t<dt>13</dt>\n",
       "\t\t<dd>12</dd>\n",
       "\t<dt>14</dt>\n",
       "\t\t<dd>13</dd>\n",
       "\t<dt>15</dt>\n",
       "\t\t<dd>14</dd>\n",
       "\t<dt>16</dt>\n",
       "\t\t<dd>15</dd>\n",
       "\t<dt>17</dt>\n",
       "\t\t<dd>16</dd>\n",
       "\t<dt>18</dt>\n",
       "\t\t<dd>17</dd>\n",
       "\t<dt>19</dt>\n",
       "\t\t<dd>18</dd>\n",
       "\t<dt>20</dt>\n",
       "\t\t<dd>19</dd>\n",
       "\t<dt>best</dt>\n",
       "\t\t<dd>20</dd>\n",
       "</dl>\n"
      ],
      "text/latex": [
       "\\begin{description*}\n",
       "\\item[worst] 0\n",
       "\\item[2] 1\n",
       "\\item[3] 2\n",
       "\\item[4] 3\n",
       "\\item[5] 4\n",
       "\\item[6] 5\n",
       "\\item[7] 6\n",
       "\\item[8] 7\n",
       "\\item[9] 8\n",
       "\\item[10] 9\n",
       "\\item[11] 10\n",
       "\\item[12] 11\n",
       "\\item[13] 12\n",
       "\\item[14] 13\n",
       "\\item[15] 14\n",
       "\\item[16] 15\n",
       "\\item[17] 16\n",
       "\\item[18] 17\n",
       "\\item[19] 18\n",
       "\\item[20] 19\n",
       "\\item[best] 20\n",
       "\\end{description*}\n"
      ],
      "text/markdown": [
       "worst\n",
       ":   02\n",
       ":   13\n",
       ":   24\n",
       ":   35\n",
       ":   46\n",
       ":   57\n",
       ":   68\n",
       ":   79\n",
       ":   810\n",
       ":   911\n",
       ":   1012\n",
       ":   1113\n",
       ":   1214\n",
       ":   1315\n",
       ":   1416\n",
       ":   1517\n",
       ":   1618\n",
       ":   1719\n",
       ":   1820\n",
       ":   19best\n",
       ":   20\n",
       "\n"
      ],
      "text/plain": [
       "worst                                                                         \n",
       "    0     1     2     3     4     5     6     7     8     9    10    11    12 \n",
       "                                           best \n",
       "   13    14    15    16    17    18    19    20 "
      ]
     },
     "metadata": {},
     "output_type": "display_data"
    }
   ],
   "source": [
    "# portuguese marks\n",
    "PORTUGUESE_MARKS <- c(worst = 0, 1:19, best = 20)\n",
    "PORTUGUESE_MARKS"
   ]
  },
  {
   "cell_type": "code",
   "execution_count": 160,
   "metadata": {
    "collapsed": false,
    "slideshow": {
     "slide_type": "fragment"
    }
   },
   "outputs": [
    {
     "data": {
      "text/html": [
       "<dl class=dl-horizontal>\n",
       "\t<dt>best</dt>\n",
       "\t\t<dd>1</dd>\n",
       "\t<dt>2</dt>\n",
       "\t\t<dd>2</dd>\n",
       "\t<dt>3</dt>\n",
       "\t\t<dd>3</dd>\n",
       "\t<dt>4</dt>\n",
       "\t\t<dd>4</dd>\n",
       "\t<dt>worst</dt>\n",
       "\t\t<dd>5</dd>\n",
       "</dl>\n"
      ],
      "text/latex": [
       "\\begin{description*}\n",
       "\\item[best] 1\n",
       "\\item[2] 2\n",
       "\\item[3] 3\n",
       "\\item[4] 4\n",
       "\\item[worst] 5\n",
       "\\end{description*}\n"
      ],
      "text/markdown": [
       "best\n",
       ":   12\n",
       ":   23\n",
       ":   34\n",
       ":   4worst\n",
       ":   5\n",
       "\n"
      ],
      "text/plain": [
       " best                   worst \n",
       "    1     2     3     4     5 "
      ]
     },
     "metadata": {},
     "output_type": "display_data"
    }
   ],
   "source": [
    "# austrian marks\n",
    "AUSTRIAN_MARKS <- c(best = 1, 2:4, worst = 5)\n",
    "AUSTRIAN_MARKS"
   ]
  },
  {
   "cell_type": "markdown",
   "metadata": {
    "slideshow": {
     "slide_type": "subslide"
    }
   },
   "source": [
    "To solve the problem we need to rescale and invert the portuguese grades such that they map between 1 to 5.\n",
    "\n",
    "We can use feature scaling to map values from one scale to another scale given by\n",
    "\n",
    "$$\n",
    "FeatureScaling(mark) = oldMin + \\dfrac{(mark - oldMin) \\cdot (newMax - newMin)}{(oldMax - oldMin)},\n",
    "$$\n",
    "\n",
    "where *oldX* would describe the portuguese minimum and maximum value of the scale and * newX *  would describe the austrian minimum and maximum.\n",
    "\n",
    "The scale is then inverted by\n",
    "$$\n",
    "InvertScale(mark) = newMax + 1 - mark.\n",
    "$$\n",
    "\n",
    "The biggest advantage is that we can vectorize these computation on either the entire data frame or subsets of it."
   ]
  },
  {
   "cell_type": "code",
   "execution_count": 161,
   "metadata": {
    "collapsed": true,
    "slideshow": {
     "slide_type": "fragment"
    }
   },
   "outputs": [],
   "source": [
    "FeatureScaling <- function(x, oldMax, oldMin, newMax, newMin){\n",
    "  newMin + ((x - oldMin) * (newMax - newMin) / (oldMax - oldMin))  \n",
    "} \n",
    "\n",
    "InvertScale <- function(x, max){\n",
    "    max + 1 - x\n",
    "}"
   ]
  },
  {
   "cell_type": "code",
   "execution_count": 162,
   "metadata": {
    "collapsed": false,
    "slideshow": {
     "slide_type": "fragment"
    }
   },
   "outputs": [
    {
     "data": {
      "text/html": [
       "<table>\n",
       "<thead><tr><th scope=col>Id</th><th scope=col>School</th><th scope=col>Sex</th><th scope=col>Age</th><th scope=col>HomeArea</th><th scope=col>FamilySize</th><th scope=col>ParentStatus</th><th scope=col>EducationMother</th><th scope=col>EducationFather</th><th scope=col>JobMother</th><th scope=col>⋯</th><th scope=col>FamilyRelationship</th><th scope=col>LeisureTime</th><th scope=col>SocialInteractionIntensity</th><th scope=col>AlcoholConsumptionWorkday</th><th scope=col>AlcoholConsumptionWeekend</th><th scope=col>HealthStatus</th><th scope=col>SchoolAbsences</th><th scope=col>GradeName</th><th scope=col>Grade</th><th scope=col>GradeAustrian</th></tr></thead>\n",
       "<tbody>\n",
       "\t<tr><td>1                </td><td>GabrielPereira   </td><td>Female           </td><td>18               </td><td>Urban            </td><td>Large            </td><td>Apart            </td><td>Higher           </td><td>Higher           </td><td>Home             </td><td>⋯                </td><td>Good             </td><td>Medium           </td><td>High             </td><td>VeryLow          </td><td>VeryLow          </td><td>Medium           </td><td> 6               </td><td>FirstPeriodGrade </td><td> 5               </td><td>4.0              </td></tr>\n",
       "\t<tr><td>2                </td><td>GabrielPereira   </td><td>Female           </td><td>17               </td><td>Urban            </td><td>Large            </td><td>Together         </td><td>Primary          </td><td>Primary          </td><td>Home             </td><td>⋯                </td><td>VeryGood         </td><td>Medium           </td><td>Medium           </td><td>VeryLow          </td><td>VeryLow          </td><td>Medium           </td><td> 4               </td><td>FirstPeriodGrade </td><td> 5               </td><td>4.0              </td></tr>\n",
       "\t<tr><td>3                </td><td>GabrielPereira   </td><td>Female           </td><td>15               </td><td>Urban            </td><td>Small            </td><td>Together         </td><td>Primary          </td><td>Primary          </td><td>Home             </td><td>⋯                </td><td>Good             </td><td>Medium           </td><td>Low              </td><td>Low              </td><td>Medium           </td><td>Medium           </td><td>10               </td><td>FirstPeriodGrade </td><td> 7               </td><td>3.6              </td></tr>\n",
       "\t<tr><td>4                </td><td>GabrielPereira   </td><td>Female           </td><td>15               </td><td>Urban            </td><td>Large            </td><td>Together         </td><td>Higher           </td><td>PrimaryExtended  </td><td>Health           </td><td>⋯                </td><td>Ok               </td><td>Low              </td><td>Low              </td><td>VeryLow          </td><td>VeryLow          </td><td>VeryHigh         </td><td> 2               </td><td>FirstPeriodGrade </td><td>15               </td><td>2.0              </td></tr>\n",
       "\t<tr><td>5                </td><td>GabrielPereira   </td><td>Female           </td><td>16               </td><td>Urban            </td><td>Large            </td><td>Together         </td><td>SecondaryExtended</td><td>SecondaryExtended</td><td>Other            </td><td>⋯                </td><td>Good             </td><td>Medium           </td><td>Low              </td><td>VeryLow          </td><td>Low              </td><td>VeryHigh         </td><td> 4               </td><td>FirstPeriodGrade </td><td> 6               </td><td>3.8              </td></tr>\n",
       "\t<tr><td>6                </td><td>GabrielPereira   </td><td>Male             </td><td>16               </td><td>Urban            </td><td>Small            </td><td>Together         </td><td>Higher           </td><td>SecondaryExtended</td><td>Services         </td><td>⋯                </td><td>VeryGood         </td><td>High             </td><td>Low              </td><td>VeryLow          </td><td>Low              </td><td>VeryHigh         </td><td>10               </td><td>FirstPeriodGrade </td><td>15               </td><td>2.0              </td></tr>\n",
       "</tbody>\n",
       "</table>\n"
      ],
      "text/latex": [
       "\\begin{tabular}{r|llllllllllllllllllllllllllllllllll}\n",
       " Id & School & Sex & Age & HomeArea & FamilySize & ParentStatus & EducationMother & EducationFather & JobMother & ⋯ & FamilyRelationship & LeisureTime & SocialInteractionIntensity & AlcoholConsumptionWorkday & AlcoholConsumptionWeekend & HealthStatus & SchoolAbsences & GradeName & Grade & GradeAustrian\\\\\n",
       "\\hline\n",
       "\t 1                 & GabrielPereira    & Female            & 18                & Urban             & Large             & Apart             & Higher            & Higher            & Home              & ⋯                 & Good              & Medium            & High              & VeryLow           & VeryLow           & Medium            &  6                & FirstPeriodGrade  &  5                & 4.0              \\\\\n",
       "\t 2                 & GabrielPereira    & Female            & 17                & Urban             & Large             & Together          & Primary           & Primary           & Home              & ⋯                 & VeryGood          & Medium            & Medium            & VeryLow           & VeryLow           & Medium            &  4                & FirstPeriodGrade  &  5                & 4.0              \\\\\n",
       "\t 3                 & GabrielPereira    & Female            & 15                & Urban             & Small             & Together          & Primary           & Primary           & Home              & ⋯                 & Good              & Medium            & Low               & Low               & Medium            & Medium            & 10                & FirstPeriodGrade  &  7                & 3.6              \\\\\n",
       "\t 4                 & GabrielPereira    & Female            & 15                & Urban             & Large             & Together          & Higher            & PrimaryExtended   & Health            & ⋯                 & Ok                & Low               & Low               & VeryLow           & VeryLow           & VeryHigh          &  2                & FirstPeriodGrade  & 15                & 2.0              \\\\\n",
       "\t 5                 & GabrielPereira    & Female            & 16                & Urban             & Large             & Together          & SecondaryExtended & SecondaryExtended & Other             & ⋯                 & Good              & Medium            & Low               & VeryLow           & Low               & VeryHigh          &  4                & FirstPeriodGrade  &  6                & 3.8              \\\\\n",
       "\t 6                 & GabrielPereira    & Male              & 16                & Urban             & Small             & Together          & Higher            & SecondaryExtended & Services          & ⋯                 & VeryGood          & High              & Low               & VeryLow           & Low               & VeryHigh          & 10                & FirstPeriodGrade  & 15                & 2.0              \\\\\n",
       "\\end{tabular}\n"
      ],
      "text/markdown": [
       "\n",
       "Id | School | Sex | Age | HomeArea | FamilySize | ParentStatus | EducationMother | EducationFather | JobMother | ⋯ | FamilyRelationship | LeisureTime | SocialInteractionIntensity | AlcoholConsumptionWorkday | AlcoholConsumptionWeekend | HealthStatus | SchoolAbsences | GradeName | Grade | GradeAustrian | \n",
       "|---|---|---|---|---|---|\n",
       "| 1                 | GabrielPereira    | Female            | 18                | Urban             | Large             | Apart             | Higher            | Higher            | Home              | ⋯                 | Good              | Medium            | High              | VeryLow           | VeryLow           | Medium            |  6                | FirstPeriodGrade  |  5                | 4.0               | \n",
       "| 2                 | GabrielPereira    | Female            | 17                | Urban             | Large             | Together          | Primary           | Primary           | Home              | ⋯                 | VeryGood          | Medium            | Medium            | VeryLow           | VeryLow           | Medium            |  4                | FirstPeriodGrade  |  5                | 4.0               | \n",
       "| 3                 | GabrielPereira    | Female            | 15                | Urban             | Small             | Together          | Primary           | Primary           | Home              | ⋯                 | Good              | Medium            | Low               | Low               | Medium            | Medium            | 10                | FirstPeriodGrade  |  7                | 3.6               | \n",
       "| 4                 | GabrielPereira    | Female            | 15                | Urban             | Large             | Together          | Higher            | PrimaryExtended   | Health            | ⋯                 | Ok                | Low               | Low               | VeryLow           | VeryLow           | VeryHigh          |  2                | FirstPeriodGrade  | 15                | 2.0               | \n",
       "| 5                 | GabrielPereira    | Female            | 16                | Urban             | Large             | Together          | SecondaryExtended | SecondaryExtended | Other             | ⋯                 | Good              | Medium            | Low               | VeryLow           | Low               | VeryHigh          |  4                | FirstPeriodGrade  |  6                | 3.8               | \n",
       "| 6                 | GabrielPereira    | Male              | 16                | Urban             | Small             | Together          | Higher            | SecondaryExtended | Services          | ⋯                 | VeryGood          | High              | Low               | VeryLow           | Low               | VeryHigh          | 10                | FirstPeriodGrade  | 15                | 2.0               | \n",
       "\n",
       "\n"
      ],
      "text/plain": [
       "  Id School         Sex    Age HomeArea FamilySize ParentStatus\n",
       "1 1  GabrielPereira Female 18  Urban    Large      Apart       \n",
       "2 2  GabrielPereira Female 17  Urban    Large      Together    \n",
       "3 3  GabrielPereira Female 15  Urban    Small      Together    \n",
       "4 4  GabrielPereira Female 15  Urban    Large      Together    \n",
       "5 5  GabrielPereira Female 16  Urban    Large      Together    \n",
       "6 6  GabrielPereira Male   16  Urban    Small      Together    \n",
       "  EducationMother   EducationFather   JobMother ⋯ FamilyRelationship\n",
       "1 Higher            Higher            Home      ⋯ Good              \n",
       "2 Primary           Primary           Home      ⋯ VeryGood          \n",
       "3 Primary           Primary           Home      ⋯ Good              \n",
       "4 Higher            PrimaryExtended   Health    ⋯ Ok                \n",
       "5 SecondaryExtended SecondaryExtended Other     ⋯ Good              \n",
       "6 Higher            SecondaryExtended Services  ⋯ VeryGood          \n",
       "  LeisureTime SocialInteractionIntensity AlcoholConsumptionWorkday\n",
       "1 Medium      High                       VeryLow                  \n",
       "2 Medium      Medium                     VeryLow                  \n",
       "3 Medium      Low                        Low                      \n",
       "4 Low         Low                        VeryLow                  \n",
       "5 Medium      Low                        VeryLow                  \n",
       "6 High        Low                        VeryLow                  \n",
       "  AlcoholConsumptionWeekend HealthStatus SchoolAbsences GradeName        Grade\n",
       "1 VeryLow                   Medium        6             FirstPeriodGrade  5   \n",
       "2 VeryLow                   Medium        4             FirstPeriodGrade  5   \n",
       "3 Medium                    Medium       10             FirstPeriodGrade  7   \n",
       "4 VeryLow                   VeryHigh      2             FirstPeriodGrade 15   \n",
       "5 Low                       VeryHigh      4             FirstPeriodGrade  6   \n",
       "6 Low                       VeryHigh     10             FirstPeriodGrade 15   \n",
       "  GradeAustrian\n",
       "1 4.0          \n",
       "2 4.0          \n",
       "3 3.6          \n",
       "4 2.0          \n",
       "5 3.8          \n",
       "6 2.0          "
      ]
     },
     "metadata": {},
     "output_type": "display_data"
    }
   ],
   "source": [
    "# [Windowing]\n",
    "gradeAustrian_df <- df %>%\n",
    "    mutate(GradeAustrian = FeatureScaling(Grade, \n",
    "                                          oldMax = max(PORTUGUESE_MARKS), \n",
    "                                          oldMin = min(PORTUGUESE_MARKS),\n",
    "                                          newMax = max(AUSTRIAN_MARKS), \n",
    "                                          newMin = min(AUSTRIAN_MARKS)),\n",
    "           GradeAustrian = InvertScale(GradeAustrian, \n",
    "                                       max = max(AUSTRIAN_MARKS)))\n",
    "gradeAustrian_df %>%\n",
    "    head"
   ]
  },
  {
   "cell_type": "markdown",
   "metadata": {
    "slideshow": {
     "slide_type": "slide"
    }
   },
   "source": [
    "### Example - Manual Checking\n",
    "\n",
    "Next we manually check whether the computation was successful via two basic questions:\n",
    "\n",
    "* Are the boundaries correctly computed?\n",
    "* What are arbitrary max, min and midpoint values to check the conversion?"
   ]
  },
  {
   "cell_type": "code",
   "execution_count": 163,
   "metadata": {
    "collapsed": false,
    "slideshow": {
     "slide_type": "fragment"
    }
   },
   "outputs": [
    {
     "data": {
      "text/html": [
       "<table>\n",
       "<thead><tr><th scope=col>Id</th><th scope=col>Grade</th><th scope=col>GradeAustrian</th></tr></thead>\n",
       "<tbody>\n",
       "\t<tr><td> 11</td><td>10 </td><td>3  </td></tr>\n",
       "\t<tr><td>131</td><td> 0 </td><td>5  </td></tr>\n",
       "\t<tr><td> 48</td><td>20 </td><td>1  </td></tr>\n",
       "</tbody>\n",
       "</table>\n"
      ],
      "text/latex": [
       "\\begin{tabular}{r|lll}\n",
       " Id & Grade & GradeAustrian\\\\\n",
       "\\hline\n",
       "\t  11 & 10  & 3  \\\\\n",
       "\t 131 &  0  & 5  \\\\\n",
       "\t  48 & 20  & 1  \\\\\n",
       "\\end{tabular}\n"
      ],
      "text/markdown": [
       "\n",
       "Id | Grade | GradeAustrian | \n",
       "|---|---|---|\n",
       "|  11 | 10  | 3   | \n",
       "| 131 |  0  | 5   | \n",
       "|  48 | 20  | 1   | \n",
       "\n",
       "\n"
      ],
      "text/plain": [
       "  Id  Grade GradeAustrian\n",
       "1  11 10    3            \n",
       "2 131  0    5            \n",
       "3  48 20    1            "
      ]
     },
     "metadata": {},
     "output_type": "display_data"
    }
   ],
   "source": [
    "# [Selecting, Filtering, Distinct, Checking]\n",
    "gradeAustrian_df %>%\n",
    "    select(Id, Grade, GradeAustrian) %>%\n",
    "    filter(Grade == 0 | Grade == 10 | Grade == 20) %>%\n",
    "    distinct(Grade, .keep_all=TRUE)"
   ]
  },
  {
   "cell_type": "markdown",
   "metadata": {
    "slideshow": {
     "slide_type": "fragment"
    }
   },
   "source": [
    "One way to make automatic lightweight checks in your scripts is via assertions."
   ]
  },
  {
   "cell_type": "code",
   "execution_count": 164,
   "metadata": {
    "collapsed": false,
    "slideshow": {
     "slide_type": "fragment"
    }
   },
   "outputs": [
    {
     "data": {
      "text/html": [
       "TRUE"
      ],
      "text/latex": [
       "TRUE"
      ],
      "text/markdown": [
       "TRUE"
      ],
      "text/plain": [
       "[1] TRUE"
      ]
     },
     "metadata": {},
     "output_type": "display_data"
    }
   ],
   "source": [
    "# [Checking]\n",
    "assert_that(\n",
    "    gradeAustrian_df %>%\n",
    "        filter(GradeAustrian > 5 & GradeAustrian < 1) %>%\n",
    "        nrow() \n",
    "    == 0\n",
    ")"
   ]
  },
  {
   "cell_type": "markdown",
   "metadata": {
    "slideshow": {
     "slide_type": "subslide"
    }
   },
   "source": [
    "### Example - Summarise Data\n",
    "What is average grade of a student?\n",
    "\n",
    "The data frame contains now three rows per student since there are three different grade that we want to summarise.\n",
    "Nevertheless we want to apply the mean function only to the three rows associated with a specific student - time for grouping."
   ]
  },
  {
   "cell_type": "code",
   "execution_count": 165,
   "metadata": {
    "collapsed": false,
    "slideshow": {
     "slide_type": "fragment"
    }
   },
   "outputs": [
    {
     "data": {
      "text/html": [
       "<table>\n",
       "<thead><tr><th scope=col>Id</th><th scope=col>GradeMean</th></tr></thead>\n",
       "<tbody>\n",
       "\t<tr><td>1        </td><td> 5.666667</td></tr>\n",
       "\t<tr><td>2        </td><td> 5.333333</td></tr>\n",
       "\t<tr><td>3        </td><td> 8.333333</td></tr>\n",
       "\t<tr><td>4        </td><td>14.666667</td></tr>\n",
       "\t<tr><td>5        </td><td> 8.666667</td></tr>\n",
       "\t<tr><td>6        </td><td>15.000000</td></tr>\n",
       "</tbody>\n",
       "</table>\n"
      ],
      "text/latex": [
       "\\begin{tabular}{r|ll}\n",
       " Id & GradeMean\\\\\n",
       "\\hline\n",
       "\t 1         &  5.666667\\\\\n",
       "\t 2         &  5.333333\\\\\n",
       "\t 3         &  8.333333\\\\\n",
       "\t 4         & 14.666667\\\\\n",
       "\t 5         &  8.666667\\\\\n",
       "\t 6         & 15.000000\\\\\n",
       "\\end{tabular}\n"
      ],
      "text/markdown": [
       "\n",
       "Id | GradeMean | \n",
       "|---|---|---|---|---|---|\n",
       "| 1         |  5.666667 | \n",
       "| 2         |  5.333333 | \n",
       "| 3         |  8.333333 | \n",
       "| 4         | 14.666667 | \n",
       "| 5         |  8.666667 | \n",
       "| 6         | 15.000000 | \n",
       "\n",
       "\n"
      ],
      "text/plain": [
       "  Id GradeMean\n",
       "1 1   5.666667\n",
       "2 2   5.333333\n",
       "3 3   8.333333\n",
       "4 4  14.666667\n",
       "5 5   8.666667\n",
       "6 6  15.000000"
      ]
     },
     "metadata": {},
     "output_type": "display_data"
    }
   ],
   "source": [
    "# [Grouping, Summarise]\n",
    "gradeMean_df <- df %>% \n",
    "    group_by(Id) %>%\n",
    "    summarise(GradeMean = mean(Grade))\n",
    "\n",
    "gradeMean_df %>%\n",
    "    head"
   ]
  },
  {
   "cell_type": "markdown",
   "metadata": {
    "slideshow": {
     "slide_type": "subslide"
    }
   },
   "source": [
    "### Example - Joining\n",
    "How can we add the mean grade to the existing data frame?"
   ]
  },
  {
   "cell_type": "code",
   "execution_count": 166,
   "metadata": {
    "collapsed": false,
    "slideshow": {
     "slide_type": "fragment"
    }
   },
   "outputs": [
    {
     "data": {
      "text/html": [
       "<table>\n",
       "<thead><tr><th scope=col>Id</th><th scope=col>School</th><th scope=col>Sex</th><th scope=col>Age</th><th scope=col>HomeArea</th><th scope=col>FamilySize</th><th scope=col>ParentStatus</th><th scope=col>EducationMother</th><th scope=col>EducationFather</th><th scope=col>JobMother</th><th scope=col>⋯</th><th scope=col>FamilyRelationship</th><th scope=col>LeisureTime</th><th scope=col>SocialInteractionIntensity</th><th scope=col>AlcoholConsumptionWorkday</th><th scope=col>AlcoholConsumptionWeekend</th><th scope=col>HealthStatus</th><th scope=col>SchoolAbsences</th><th scope=col>GradeName</th><th scope=col>Grade</th><th scope=col>GradeMean</th></tr></thead>\n",
       "<tbody>\n",
       "\t<tr><td>1                </td><td>GabrielPereira   </td><td>Female           </td><td>18               </td><td>Urban            </td><td>Large            </td><td>Apart            </td><td>Higher           </td><td>Higher           </td><td>Home             </td><td>⋯                </td><td>Good             </td><td>Medium           </td><td>High             </td><td>VeryLow          </td><td>VeryLow          </td><td>Medium           </td><td> 6               </td><td>FirstPeriodGrade </td><td> 5               </td><td> 5.666667        </td></tr>\n",
       "\t<tr><td>2                </td><td>GabrielPereira   </td><td>Female           </td><td>17               </td><td>Urban            </td><td>Large            </td><td>Together         </td><td>Primary          </td><td>Primary          </td><td>Home             </td><td>⋯                </td><td>VeryGood         </td><td>Medium           </td><td>Medium           </td><td>VeryLow          </td><td>VeryLow          </td><td>Medium           </td><td> 4               </td><td>FirstPeriodGrade </td><td> 5               </td><td> 5.333333        </td></tr>\n",
       "\t<tr><td>3                </td><td>GabrielPereira   </td><td>Female           </td><td>15               </td><td>Urban            </td><td>Small            </td><td>Together         </td><td>Primary          </td><td>Primary          </td><td>Home             </td><td>⋯                </td><td>Good             </td><td>Medium           </td><td>Low              </td><td>Low              </td><td>Medium           </td><td>Medium           </td><td>10               </td><td>FirstPeriodGrade </td><td> 7               </td><td> 8.333333        </td></tr>\n",
       "\t<tr><td>4                </td><td>GabrielPereira   </td><td>Female           </td><td>15               </td><td>Urban            </td><td>Large            </td><td>Together         </td><td>Higher           </td><td>PrimaryExtended  </td><td>Health           </td><td>⋯                </td><td>Ok               </td><td>Low              </td><td>Low              </td><td>VeryLow          </td><td>VeryLow          </td><td>VeryHigh         </td><td> 2               </td><td>FirstPeriodGrade </td><td>15               </td><td>14.666667        </td></tr>\n",
       "\t<tr><td>5                </td><td>GabrielPereira   </td><td>Female           </td><td>16               </td><td>Urban            </td><td>Large            </td><td>Together         </td><td>SecondaryExtended</td><td>SecondaryExtended</td><td>Other            </td><td>⋯                </td><td>Good             </td><td>Medium           </td><td>Low              </td><td>VeryLow          </td><td>Low              </td><td>VeryHigh         </td><td> 4               </td><td>FirstPeriodGrade </td><td> 6               </td><td> 8.666667        </td></tr>\n",
       "\t<tr><td>6                </td><td>GabrielPereira   </td><td>Male             </td><td>16               </td><td>Urban            </td><td>Small            </td><td>Together         </td><td>Higher           </td><td>SecondaryExtended</td><td>Services         </td><td>⋯                </td><td>VeryGood         </td><td>High             </td><td>Low              </td><td>VeryLow          </td><td>Low              </td><td>VeryHigh         </td><td>10               </td><td>FirstPeriodGrade </td><td>15               </td><td>15.000000        </td></tr>\n",
       "</tbody>\n",
       "</table>\n"
      ],
      "text/latex": [
       "\\begin{tabular}{r|llllllllllllllllllllllllllllllllll}\n",
       " Id & School & Sex & Age & HomeArea & FamilySize & ParentStatus & EducationMother & EducationFather & JobMother & ⋯ & FamilyRelationship & LeisureTime & SocialInteractionIntensity & AlcoholConsumptionWorkday & AlcoholConsumptionWeekend & HealthStatus & SchoolAbsences & GradeName & Grade & GradeMean\\\\\n",
       "\\hline\n",
       "\t 1                 & GabrielPereira    & Female            & 18                & Urban             & Large             & Apart             & Higher            & Higher            & Home              & ⋯                 & Good              & Medium            & High              & VeryLow           & VeryLow           & Medium            &  6                & FirstPeriodGrade  &  5                &  5.666667        \\\\\n",
       "\t 2                 & GabrielPereira    & Female            & 17                & Urban             & Large             & Together          & Primary           & Primary           & Home              & ⋯                 & VeryGood          & Medium            & Medium            & VeryLow           & VeryLow           & Medium            &  4                & FirstPeriodGrade  &  5                &  5.333333        \\\\\n",
       "\t 3                 & GabrielPereira    & Female            & 15                & Urban             & Small             & Together          & Primary           & Primary           & Home              & ⋯                 & Good              & Medium            & Low               & Low               & Medium            & Medium            & 10                & FirstPeriodGrade  &  7                &  8.333333        \\\\\n",
       "\t 4                 & GabrielPereira    & Female            & 15                & Urban             & Large             & Together          & Higher            & PrimaryExtended   & Health            & ⋯                 & Ok                & Low               & Low               & VeryLow           & VeryLow           & VeryHigh          &  2                & FirstPeriodGrade  & 15                & 14.666667        \\\\\n",
       "\t 5                 & GabrielPereira    & Female            & 16                & Urban             & Large             & Together          & SecondaryExtended & SecondaryExtended & Other             & ⋯                 & Good              & Medium            & Low               & VeryLow           & Low               & VeryHigh          &  4                & FirstPeriodGrade  &  6                &  8.666667        \\\\\n",
       "\t 6                 & GabrielPereira    & Male              & 16                & Urban             & Small             & Together          & Higher            & SecondaryExtended & Services          & ⋯                 & VeryGood          & High              & Low               & VeryLow           & Low               & VeryHigh          & 10                & FirstPeriodGrade  & 15                & 15.000000        \\\\\n",
       "\\end{tabular}\n"
      ],
      "text/markdown": [
       "\n",
       "Id | School | Sex | Age | HomeArea | FamilySize | ParentStatus | EducationMother | EducationFather | JobMother | ⋯ | FamilyRelationship | LeisureTime | SocialInteractionIntensity | AlcoholConsumptionWorkday | AlcoholConsumptionWeekend | HealthStatus | SchoolAbsences | GradeName | Grade | GradeMean | \n",
       "|---|---|---|---|---|---|\n",
       "| 1                 | GabrielPereira    | Female            | 18                | Urban             | Large             | Apart             | Higher            | Higher            | Home              | ⋯                 | Good              | Medium            | High              | VeryLow           | VeryLow           | Medium            |  6                | FirstPeriodGrade  |  5                |  5.666667         | \n",
       "| 2                 | GabrielPereira    | Female            | 17                | Urban             | Large             | Together          | Primary           | Primary           | Home              | ⋯                 | VeryGood          | Medium            | Medium            | VeryLow           | VeryLow           | Medium            |  4                | FirstPeriodGrade  |  5                |  5.333333         | \n",
       "| 3                 | GabrielPereira    | Female            | 15                | Urban             | Small             | Together          | Primary           | Primary           | Home              | ⋯                 | Good              | Medium            | Low               | Low               | Medium            | Medium            | 10                | FirstPeriodGrade  |  7                |  8.333333         | \n",
       "| 4                 | GabrielPereira    | Female            | 15                | Urban             | Large             | Together          | Higher            | PrimaryExtended   | Health            | ⋯                 | Ok                | Low               | Low               | VeryLow           | VeryLow           | VeryHigh          |  2                | FirstPeriodGrade  | 15                | 14.666667         | \n",
       "| 5                 | GabrielPereira    | Female            | 16                | Urban             | Large             | Together          | SecondaryExtended | SecondaryExtended | Other             | ⋯                 | Good              | Medium            | Low               | VeryLow           | Low               | VeryHigh          |  4                | FirstPeriodGrade  |  6                |  8.666667         | \n",
       "| 6                 | GabrielPereira    | Male              | 16                | Urban             | Small             | Together          | Higher            | SecondaryExtended | Services          | ⋯                 | VeryGood          | High              | Low               | VeryLow           | Low               | VeryHigh          | 10                | FirstPeriodGrade  | 15                | 15.000000         | \n",
       "\n",
       "\n"
      ],
      "text/plain": [
       "  Id School         Sex    Age HomeArea FamilySize ParentStatus\n",
       "1 1  GabrielPereira Female 18  Urban    Large      Apart       \n",
       "2 2  GabrielPereira Female 17  Urban    Large      Together    \n",
       "3 3  GabrielPereira Female 15  Urban    Small      Together    \n",
       "4 4  GabrielPereira Female 15  Urban    Large      Together    \n",
       "5 5  GabrielPereira Female 16  Urban    Large      Together    \n",
       "6 6  GabrielPereira Male   16  Urban    Small      Together    \n",
       "  EducationMother   EducationFather   JobMother ⋯ FamilyRelationship\n",
       "1 Higher            Higher            Home      ⋯ Good              \n",
       "2 Primary           Primary           Home      ⋯ VeryGood          \n",
       "3 Primary           Primary           Home      ⋯ Good              \n",
       "4 Higher            PrimaryExtended   Health    ⋯ Ok                \n",
       "5 SecondaryExtended SecondaryExtended Other     ⋯ Good              \n",
       "6 Higher            SecondaryExtended Services  ⋯ VeryGood          \n",
       "  LeisureTime SocialInteractionIntensity AlcoholConsumptionWorkday\n",
       "1 Medium      High                       VeryLow                  \n",
       "2 Medium      Medium                     VeryLow                  \n",
       "3 Medium      Low                        Low                      \n",
       "4 Low         Low                        VeryLow                  \n",
       "5 Medium      Low                        VeryLow                  \n",
       "6 High        Low                        VeryLow                  \n",
       "  AlcoholConsumptionWeekend HealthStatus SchoolAbsences GradeName        Grade\n",
       "1 VeryLow                   Medium        6             FirstPeriodGrade  5   \n",
       "2 VeryLow                   Medium        4             FirstPeriodGrade  5   \n",
       "3 Medium                    Medium       10             FirstPeriodGrade  7   \n",
       "4 VeryLow                   VeryHigh      2             FirstPeriodGrade 15   \n",
       "5 Low                       VeryHigh      4             FirstPeriodGrade  6   \n",
       "6 Low                       VeryHigh     10             FirstPeriodGrade 15   \n",
       "  GradeMean\n",
       "1  5.666667\n",
       "2  5.333333\n",
       "3  8.333333\n",
       "4 14.666667\n",
       "5  8.666667\n",
       "6 15.000000"
      ]
     },
     "metadata": {},
     "output_type": "display_data"
    }
   ],
   "source": [
    "# [Joining]\n",
    "# dplyr uses automatically matching columns to join on\n",
    "# df %>%\n",
    "#     inner_join(gradeMean_df)\n",
    "\n",
    "# or if it is only one column simply defined the column\n",
    "# df %>%\n",
    "#     inner_join(gradeMean_df, by = 'Id')\n",
    "\n",
    "# but best define the mapping to avoid mistakes\n",
    "df %>%\n",
    "    inner_join(gradeMean_df, by = c('Id' = 'Id')) %>%\n",
    "    head"
   ]
  },
  {
   "cell_type": "markdown",
   "metadata": {
    "slideshow": {
     "slide_type": "slide"
    }
   },
   "source": [
    "**References**\n",
    "\n",
    "**Data**\n",
    "\n",
    "Cortez, P., & Silva, A. M. G. (2008). Using data mining to predict secondary school student performance.\n",
    "\n",
    "**Data Wrangling**\n",
    "\n",
    "Wickham, H. (2014). Tidy Data. Journal of Statistical Software, 59(10), 1 - 23. doi:http://dx.doi.org/10.18637/jss.v059.i10"
   ]
  }
 ],
 "metadata": {
  "celltoolbar": "Slideshow",
  "kernelspec": {
   "display_name": "R",
   "language": "R",
   "name": "ir"
  },
  "language_info": {
   "codemirror_mode": "r",
   "file_extension": ".r",
   "mimetype": "text/x-r-source",
   "name": "R",
   "pygments_lexer": "r",
   "version": "3.3.2"
  }
 },
 "nbformat": 4,
 "nbformat_minor": 2
}
